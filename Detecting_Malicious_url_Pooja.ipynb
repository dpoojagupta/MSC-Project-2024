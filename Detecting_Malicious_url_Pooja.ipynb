{
 "cells": [
  {
   "cell_type": "code",
   "execution_count": 1,
   "metadata": {
    "colab": {
     "base_uri": "https://localhost:8080/"
    },
    "id": "DfxgKBMJ9rnb",
    "outputId": "f794c9b4-12b2-4899-aef2-b8498012fe1f"
   },
   "outputs": [
    {
     "name": "stdout",
     "output_type": "stream",
     "text": [
      "Requirement already satisfied: tld in c:\\users\\happy\\anaconda3\\lib\\site-packages (0.13)\n"
     ]
    }
   ],
   "source": [
    "!pip install tld"
   ]
  },
  {
   "cell_type": "code",
   "execution_count": 2,
   "metadata": {
    "id": "kEiaEA5x9rnc"
   },
   "outputs": [],
   "source": [
    "import numpy as np\n",
    "import pandas as pd\n",
    "import re\n",
    "import matplotlib.pyplot as plt\n",
    "import seaborn as sns\n",
    "from urllib.parse import urlparse\n",
    "from tld import get_tld\n",
    "import warnings\n",
    "warnings.filterwarnings('ignore')\n",
    "warnings.simplefilter(action='ignore', category=FutureWarning)\n",
    "from sklearn.preprocessing import LabelEncoder\n",
    "from sklearn.model_selection import train_test_split\n",
    "from lightgbm import LGBMClassifier\n",
    "from sklearn.svm import SVC\n",
    "from sklearn.tree import DecisionTreeClassifier\n",
    "from sklearn.ensemble import RandomForestClassifier, ExtraTreesClassifier, AdaBoostClassifier\n",
    "from xgboost import XGBClassifier\n",
    "from sklearn.metrics import accuracy_score, f1_score\n",
    "import pickle\n",
    "from sklearn.model_selection import cross_val_score\n",
    "from sklearn.neural_network import MLPClassifier"
   ]
  },
  {
   "cell_type": "code",
   "execution_count": 3,
   "metadata": {},
   "outputs": [
    {
     "data": {
      "text/html": [
       "<div>\n",
       "<style scoped>\n",
       "    .dataframe tbody tr th:only-of-type {\n",
       "        vertical-align: middle;\n",
       "    }\n",
       "\n",
       "    .dataframe tbody tr th {\n",
       "        vertical-align: top;\n",
       "    }\n",
       "\n",
       "    .dataframe thead th {\n",
       "        text-align: right;\n",
       "    }\n",
       "</style>\n",
       "<table border=\"1\" class=\"dataframe\">\n",
       "  <thead>\n",
       "    <tr style=\"text-align: right;\">\n",
       "      <th></th>\n",
       "      <th>url</th>\n",
       "      <th>label</th>\n",
       "    </tr>\n",
       "  </thead>\n",
       "  <tbody>\n",
       "    <tr>\n",
       "      <th>0</th>\n",
       "      <td>http://1337x.to/torrent/1048648/American-Snipe...</td>\n",
       "      <td>0</td>\n",
       "    </tr>\n",
       "    <tr>\n",
       "      <th>1</th>\n",
       "      <td>http://1337x.to/torrent/1110018/Blackhat-2015-...</td>\n",
       "      <td>0</td>\n",
       "    </tr>\n",
       "    <tr>\n",
       "      <th>2</th>\n",
       "      <td>http://1337x.to/torrent/1122940/Blackhat-2015-...</td>\n",
       "      <td>0</td>\n",
       "    </tr>\n",
       "    <tr>\n",
       "      <th>3</th>\n",
       "      <td>http://1337x.to/torrent/1124395/Fast-and-Furio...</td>\n",
       "      <td>0</td>\n",
       "    </tr>\n",
       "    <tr>\n",
       "      <th>4</th>\n",
       "      <td>http://1337x.to/torrent/1145504/Avengers-Age-o...</td>\n",
       "      <td>0</td>\n",
       "    </tr>\n",
       "  </tbody>\n",
       "</table>\n",
       "</div>"
      ],
      "text/plain": [
       "                                                 url  label\n",
       "0  http://1337x.to/torrent/1048648/American-Snipe...      0\n",
       "1  http://1337x.to/torrent/1110018/Blackhat-2015-...      0\n",
       "2  http://1337x.to/torrent/1122940/Blackhat-2015-...      0\n",
       "3  http://1337x.to/torrent/1124395/Fast-and-Furio...      0\n",
       "4  http://1337x.to/torrent/1145504/Avengers-Age-o...      0"
      ]
     },
     "execution_count": 3,
     "metadata": {},
     "output_type": "execute_result"
    }
   ],
   "source": [
    "benign = pd.read_csv('Benign_list_big_final.csv', names=['url'])\n",
    "benign['label'] = 0\n",
    "benign.head()"
   ]
  },
  {
   "cell_type": "code",
   "execution_count": 4,
   "metadata": {},
   "outputs": [
    {
     "data": {
      "text/html": [
       "<div>\n",
       "<style scoped>\n",
       "    .dataframe tbody tr th:only-of-type {\n",
       "        vertical-align: middle;\n",
       "    }\n",
       "\n",
       "    .dataframe tbody tr th {\n",
       "        vertical-align: top;\n",
       "    }\n",
       "\n",
       "    .dataframe thead th {\n",
       "        text-align: right;\n",
       "    }\n",
       "</style>\n",
       "<table border=\"1\" class=\"dataframe\">\n",
       "  <thead>\n",
       "    <tr style=\"text-align: right;\">\n",
       "      <th></th>\n",
       "      <th>url</th>\n",
       "      <th>label</th>\n",
       "    </tr>\n",
       "  </thead>\n",
       "  <tbody>\n",
       "    <tr>\n",
       "      <th>0</th>\n",
       "      <td>http://www.sinduscongoias.com.br/index.html</td>\n",
       "      <td>1</td>\n",
       "    </tr>\n",
       "    <tr>\n",
       "      <th>1</th>\n",
       "      <td>http://www.sinduscongoias.com.br/index.php/ins...</td>\n",
       "      <td>1</td>\n",
       "    </tr>\n",
       "    <tr>\n",
       "      <th>2</th>\n",
       "      <td>http://www.sinduscongoias.com.br/index.php/ins...</td>\n",
       "      <td>1</td>\n",
       "    </tr>\n",
       "    <tr>\n",
       "      <th>3</th>\n",
       "      <td>http://www.sinduscongoias.com.br/index.php/ins...</td>\n",
       "      <td>1</td>\n",
       "    </tr>\n",
       "    <tr>\n",
       "      <th>4</th>\n",
       "      <td>http://www.sinduscongoias.com.br/index.php/ins...</td>\n",
       "      <td>1</td>\n",
       "    </tr>\n",
       "  </tbody>\n",
       "</table>\n",
       "</div>"
      ],
      "text/plain": [
       "                                                 url  label\n",
       "0        http://www.sinduscongoias.com.br/index.html      1\n",
       "1  http://www.sinduscongoias.com.br/index.php/ins...      1\n",
       "2  http://www.sinduscongoias.com.br/index.php/ins...      1\n",
       "3  http://www.sinduscongoias.com.br/index.php/ins...      1\n",
       "4  http://www.sinduscongoias.com.br/index.php/ins...      1"
      ]
     },
     "execution_count": 4,
     "metadata": {},
     "output_type": "execute_result"
    }
   ],
   "source": [
    "defacement = pd.read_csv('DefacementSitesURLFiltered.csv', names=['url'])\n",
    "defacement['label'] = 1\n",
    "defacement.head()"
   ]
  },
  {
   "cell_type": "code",
   "execution_count": 5,
   "metadata": {},
   "outputs": [
    {
     "data": {
      "text/html": [
       "<div>\n",
       "<style scoped>\n",
       "    .dataframe tbody tr th:only-of-type {\n",
       "        vertical-align: middle;\n",
       "    }\n",
       "\n",
       "    .dataframe tbody tr th {\n",
       "        vertical-align: top;\n",
       "    }\n",
       "\n",
       "    .dataframe thead th {\n",
       "        text-align: right;\n",
       "    }\n",
       "</style>\n",
       "<table border=\"1\" class=\"dataframe\">\n",
       "  <thead>\n",
       "    <tr style=\"text-align: right;\">\n",
       "      <th></th>\n",
       "      <th>url</th>\n",
       "      <th>label</th>\n",
       "    </tr>\n",
       "  </thead>\n",
       "  <tbody>\n",
       "    <tr>\n",
       "      <th>0</th>\n",
       "      <td>http://gzzax.livechatvalue.com/chat/chatClient...</td>\n",
       "      <td>2</td>\n",
       "    </tr>\n",
       "    <tr>\n",
       "      <th>1</th>\n",
       "      <td>http://gzzax.livechatvalue.com/chat/chatClient...</td>\n",
       "      <td>2</td>\n",
       "    </tr>\n",
       "    <tr>\n",
       "      <th>2</th>\n",
       "      <td>http://gzzax.livechatvalue.com/chat/chatClient...</td>\n",
       "      <td>2</td>\n",
       "    </tr>\n",
       "    <tr>\n",
       "      <th>3</th>\n",
       "      <td>http://gzzax.livechatvalue.com/chat/chatClient...</td>\n",
       "      <td>2</td>\n",
       "    </tr>\n",
       "    <tr>\n",
       "      <th>4</th>\n",
       "      <td>http://mtsx.com.cn/UploadFiles/2011-08/admin/%...</td>\n",
       "      <td>2</td>\n",
       "    </tr>\n",
       "  </tbody>\n",
       "</table>\n",
       "</div>"
      ],
      "text/plain": [
       "                                                 url  label\n",
       "0  http://gzzax.livechatvalue.com/chat/chatClient...      2\n",
       "1  http://gzzax.livechatvalue.com/chat/chatClient...      2\n",
       "2  http://gzzax.livechatvalue.com/chat/chatClient...      2\n",
       "3  http://gzzax.livechatvalue.com/chat/chatClient...      2\n",
       "4  http://mtsx.com.cn/UploadFiles/2011-08/admin/%...      2"
      ]
     },
     "execution_count": 5,
     "metadata": {},
     "output_type": "execute_result"
    }
   ],
   "source": [
    "malware = pd.read_csv('Malware_dataset.csv', names=['url'])\n",
    "malware['label'] = 2\n",
    "malware.head()"
   ]
  },
  {
   "cell_type": "code",
   "execution_count": 6,
   "metadata": {},
   "outputs": [
    {
     "data": {
      "text/html": [
       "<div>\n",
       "<style scoped>\n",
       "    .dataframe tbody tr th:only-of-type {\n",
       "        vertical-align: middle;\n",
       "    }\n",
       "\n",
       "    .dataframe tbody tr th {\n",
       "        vertical-align: top;\n",
       "    }\n",
       "\n",
       "    .dataframe thead th {\n",
       "        text-align: right;\n",
       "    }\n",
       "</style>\n",
       "<table border=\"1\" class=\"dataframe\">\n",
       "  <thead>\n",
       "    <tr style=\"text-align: right;\">\n",
       "      <th></th>\n",
       "      <th>url</th>\n",
       "      <th>label</th>\n",
       "    </tr>\n",
       "  </thead>\n",
       "  <tbody>\n",
       "    <tr>\n",
       "      <th>0</th>\n",
       "      <td>http://astore.amazon.co.uk/allezvinsfrenchr/de...</td>\n",
       "      <td>3</td>\n",
       "    </tr>\n",
       "    <tr>\n",
       "      <th>1</th>\n",
       "      <td>http://archive.salisburyjournal.co.uk/2007/3/6...</td>\n",
       "      <td>3</td>\n",
       "    </tr>\n",
       "    <tr>\n",
       "      <th>2</th>\n",
       "      <td>http://appbasic.jettons.co.uk/links/index.html</td>\n",
       "      <td>3</td>\n",
       "    </tr>\n",
       "    <tr>\n",
       "      <th>3</th>\n",
       "      <td>http://archive.yorkpress.co.uk/2003/11/6/25684...</td>\n",
       "      <td>3</td>\n",
       "    </tr>\n",
       "    <tr>\n",
       "      <th>4</th>\n",
       "      <td>http://acard4u.co.uk/product_reviews.php?cPath...</td>\n",
       "      <td>3</td>\n",
       "    </tr>\n",
       "  </tbody>\n",
       "</table>\n",
       "</div>"
      ],
      "text/plain": [
       "                                                 url  label\n",
       "0  http://astore.amazon.co.uk/allezvinsfrenchr/de...      3\n",
       "1  http://archive.salisburyjournal.co.uk/2007/3/6...      3\n",
       "2     http://appbasic.jettons.co.uk/links/index.html      3\n",
       "3  http://archive.yorkpress.co.uk/2003/11/6/25684...      3\n",
       "4  http://acard4u.co.uk/product_reviews.php?cPath...      3"
      ]
     },
     "execution_count": 6,
     "metadata": {},
     "output_type": "execute_result"
    }
   ],
   "source": [
    "spam = pd.read_csv('spam_dataset.csv', names=['url'])\n",
    "spam['label'] = 3\n",
    "spam.head()"
   ]
  },
  {
   "cell_type": "code",
   "execution_count": 7,
   "metadata": {},
   "outputs": [
    {
     "data": {
      "text/html": [
       "<div>\n",
       "<style scoped>\n",
       "    .dataframe tbody tr th:only-of-type {\n",
       "        vertical-align: middle;\n",
       "    }\n",
       "\n",
       "    .dataframe tbody tr th {\n",
       "        vertical-align: top;\n",
       "    }\n",
       "\n",
       "    .dataframe thead th {\n",
       "        text-align: right;\n",
       "    }\n",
       "</style>\n",
       "<table border=\"1\" class=\"dataframe\">\n",
       "  <thead>\n",
       "    <tr style=\"text-align: right;\">\n",
       "      <th></th>\n",
       "      <th>url</th>\n",
       "      <th>label</th>\n",
       "    </tr>\n",
       "  </thead>\n",
       "  <tbody>\n",
       "    <tr>\n",
       "      <th>0</th>\n",
       "      <td>http://v2.email-marketing.adminsimple.com/trac...</td>\n",
       "      <td>4</td>\n",
       "    </tr>\n",
       "    <tr>\n",
       "      <th>1</th>\n",
       "      <td>http://bid.openx.net/json?amp;amp;amp;amp;cid;...</td>\n",
       "      <td>4</td>\n",
       "    </tr>\n",
       "    <tr>\n",
       "      <th>2</th>\n",
       "      <td>http://webmail2.centurytel.net/hwebmail/servic...</td>\n",
       "      <td>4</td>\n",
       "    </tr>\n",
       "    <tr>\n",
       "      <th>3</th>\n",
       "      <td>http://www.google.com.ng/imgres?imgurl=http://...</td>\n",
       "      <td>4</td>\n",
       "    </tr>\n",
       "    <tr>\n",
       "      <th>4</th>\n",
       "      <td>http://webmail2.centurytel.net/hwebmail/servic...</td>\n",
       "      <td>4</td>\n",
       "    </tr>\n",
       "  </tbody>\n",
       "</table>\n",
       "</div>"
      ],
      "text/plain": [
       "                                                 url  label\n",
       "0  http://v2.email-marketing.adminsimple.com/trac...      4\n",
       "1  http://bid.openx.net/json?amp;amp;amp;amp;cid;...      4\n",
       "2  http://webmail2.centurytel.net/hwebmail/servic...      4\n",
       "3  http://www.google.com.ng/imgres?imgurl=http://...      4\n",
       "4  http://webmail2.centurytel.net/hwebmail/servic...      4"
      ]
     },
     "execution_count": 7,
     "metadata": {},
     "output_type": "execute_result"
    }
   ],
   "source": [
    "phishing = pd.read_csv('phishing_dataset.csv', names=['url'])\n",
    "phishing['label'] = 4\n",
    "phishing.head()"
   ]
  },
  {
   "cell_type": "code",
   "execution_count": 8,
   "metadata": {
    "colab": {
     "base_uri": "https://localhost:8080/",
     "height": 747
    },
    "id": "ZBe5IeiB9rnc",
    "outputId": "372d9df2-5cfd-4ff1-eed8-c995e7006142"
   },
   "outputs": [
    {
     "data": {
      "text/html": [
       "<div>\n",
       "<style scoped>\n",
       "    .dataframe tbody tr th:only-of-type {\n",
       "        vertical-align: middle;\n",
       "    }\n",
       "\n",
       "    .dataframe tbody tr th {\n",
       "        vertical-align: top;\n",
       "    }\n",
       "\n",
       "    .dataframe thead th {\n",
       "        text-align: right;\n",
       "    }\n",
       "</style>\n",
       "<table border=\"1\" class=\"dataframe\">\n",
       "  <thead>\n",
       "    <tr style=\"text-align: right;\">\n",
       "      <th></th>\n",
       "      <th>url</th>\n",
       "      <th>label</th>\n",
       "    </tr>\n",
       "  </thead>\n",
       "  <tbody>\n",
       "    <tr>\n",
       "      <th>0</th>\n",
       "      <td>http://1337x.to/torrent/1048648/American-Snipe...</td>\n",
       "      <td>0</td>\n",
       "    </tr>\n",
       "    <tr>\n",
       "      <th>1</th>\n",
       "      <td>http://1337x.to/torrent/1110018/Blackhat-2015-...</td>\n",
       "      <td>0</td>\n",
       "    </tr>\n",
       "    <tr>\n",
       "      <th>2</th>\n",
       "      <td>http://1337x.to/torrent/1122940/Blackhat-2015-...</td>\n",
       "      <td>0</td>\n",
       "    </tr>\n",
       "    <tr>\n",
       "      <th>3</th>\n",
       "      <td>http://1337x.to/torrent/1124395/Fast-and-Furio...</td>\n",
       "      <td>0</td>\n",
       "    </tr>\n",
       "    <tr>\n",
       "      <th>4</th>\n",
       "      <td>http://1337x.to/torrent/1145504/Avengers-Age-o...</td>\n",
       "      <td>0</td>\n",
       "    </tr>\n",
       "  </tbody>\n",
       "</table>\n",
       "</div>"
      ],
      "text/plain": [
       "                                                 url  label\n",
       "0  http://1337x.to/torrent/1048648/American-Snipe...      0\n",
       "1  http://1337x.to/torrent/1110018/Blackhat-2015-...      0\n",
       "2  http://1337x.to/torrent/1122940/Blackhat-2015-...      0\n",
       "3  http://1337x.to/torrent/1124395/Fast-and-Furio...      0\n",
       "4  http://1337x.to/torrent/1145504/Avengers-Age-o...      0"
      ]
     },
     "execution_count": 8,
     "metadata": {},
     "output_type": "execute_result"
    }
   ],
   "source": [
    "data=pd.concat([benign, defacement, malware,spam, phishing])\n",
    "data.head()"
   ]
  },
  {
   "cell_type": "code",
   "execution_count": 9,
   "metadata": {
    "colab": {
     "base_uri": "https://localhost:8080/"
    },
    "id": "V-ehTuZQ9rnd",
    "outputId": "01c99113-dca7-4d9e-f17d-5ac7725b4da7"
   },
   "outputs": [
    {
     "name": "stdout",
     "output_type": "stream",
     "text": [
      "<class 'pandas.core.frame.DataFrame'>\n",
      "Index: 165366 entries, 0 to 9964\n",
      "Data columns (total 2 columns):\n",
      " #   Column  Non-Null Count   Dtype \n",
      "---  ------  --------------   ----- \n",
      " 0   url     165366 non-null  object\n",
      " 1   label   165366 non-null  int64 \n",
      "dtypes: int64(1), object(1)\n",
      "memory usage: 3.8+ MB\n"
     ]
    }
   ],
   "source": [
    "data.info() #information of data"
   ]
  },
  {
   "cell_type": "code",
   "execution_count": 10,
   "metadata": {
    "colab": {
     "base_uri": "https://localhost:8080/"
    },
    "id": "QAaJSKkl9rnd",
    "outputId": "62d700a7-9309-4b39-87ab-48b385a0ea10"
   },
   "outputs": [
    {
     "data": {
      "text/plain": [
       "url      0\n",
       "label    0\n",
       "dtype: int64"
      ]
     },
     "execution_count": 10,
     "metadata": {},
     "output_type": "execute_result"
    }
   ],
   "source": [
    "data.isnull().sum() #finding any null values"
   ]
  },
  {
   "cell_type": "markdown",
   "metadata": {
    "id": "LVnme6PZ9rnd"
   },
   "source": [
    "# Data preprocessing"
   ]
  },
  {
   "cell_type": "code",
   "execution_count": 11,
   "metadata": {
    "colab": {
     "base_uri": "https://localhost:8080/",
     "height": 261
    },
    "id": "qIOC6-GJ9rne",
    "outputId": "6a6b8e67-1880-40d8-80ab-9166391d951e"
   },
   "outputs": [
    {
     "data": {
      "text/html": [
       "<div>\n",
       "<style scoped>\n",
       "    .dataframe tbody tr th:only-of-type {\n",
       "        vertical-align: middle;\n",
       "    }\n",
       "\n",
       "    .dataframe tbody tr th {\n",
       "        vertical-align: top;\n",
       "    }\n",
       "\n",
       "    .dataframe thead th {\n",
       "        text-align: right;\n",
       "    }\n",
       "</style>\n",
       "<table border=\"1\" class=\"dataframe\">\n",
       "  <thead>\n",
       "    <tr style=\"text-align: right;\">\n",
       "      <th></th>\n",
       "      <th>url</th>\n",
       "      <th>label</th>\n",
       "      <th>urlSize</th>\n",
       "    </tr>\n",
       "  </thead>\n",
       "  <tbody>\n",
       "    <tr>\n",
       "      <th>0</th>\n",
       "      <td>http://1337x.to/torrent/1048648/American-Snipe...</td>\n",
       "      <td>0</td>\n",
       "      <td>83</td>\n",
       "    </tr>\n",
       "    <tr>\n",
       "      <th>1</th>\n",
       "      <td>http://1337x.to/torrent/1110018/Blackhat-2015-...</td>\n",
       "      <td>0</td>\n",
       "      <td>83</td>\n",
       "    </tr>\n",
       "    <tr>\n",
       "      <th>2</th>\n",
       "      <td>http://1337x.to/torrent/1122940/Blackhat-2015-...</td>\n",
       "      <td>0</td>\n",
       "      <td>83</td>\n",
       "    </tr>\n",
       "    <tr>\n",
       "      <th>3</th>\n",
       "      <td>http://1337x.to/torrent/1124395/Fast-and-Furio...</td>\n",
       "      <td>0</td>\n",
       "      <td>83</td>\n",
       "    </tr>\n",
       "    <tr>\n",
       "      <th>4</th>\n",
       "      <td>http://1337x.to/torrent/1145504/Avengers-Age-o...</td>\n",
       "      <td>0</td>\n",
       "      <td>83</td>\n",
       "    </tr>\n",
       "  </tbody>\n",
       "</table>\n",
       "</div>"
      ],
      "text/plain": [
       "                                                 url  label  urlSize\n",
       "0  http://1337x.to/torrent/1048648/American-Snipe...      0       83\n",
       "1  http://1337x.to/torrent/1110018/Blackhat-2015-...      0       83\n",
       "2  http://1337x.to/torrent/1122940/Blackhat-2015-...      0       83\n",
       "3  http://1337x.to/torrent/1124395/Fast-and-Furio...      0       83\n",
       "4  http://1337x.to/torrent/1145504/Avengers-Age-o...      0       83"
      ]
     },
     "execution_count": 11,
     "metadata": {},
     "output_type": "execute_result"
    }
   ],
   "source": [
    "#Length of URL\n",
    "data['urlSize'] = data['url'].apply(lambda i: len(str(i)))\n",
    "data.head()"
   ]
  },
  {
   "cell_type": "code",
   "execution_count": 12,
   "metadata": {
    "colab": {
     "base_uri": "https://localhost:8080/",
     "height": 261
    },
    "id": "Kq8ToItR9rne",
    "outputId": "fbea2666-8d41-4778-8c7f-667749709c41"
   },
   "outputs": [
    {
     "data": {
      "text/html": [
       "<div>\n",
       "<style scoped>\n",
       "    .dataframe tbody tr th:only-of-type {\n",
       "        vertical-align: middle;\n",
       "    }\n",
       "\n",
       "    .dataframe tbody tr th {\n",
       "        vertical-align: top;\n",
       "    }\n",
       "\n",
       "    .dataframe thead th {\n",
       "        text-align: right;\n",
       "    }\n",
       "</style>\n",
       "<table border=\"1\" class=\"dataframe\">\n",
       "  <thead>\n",
       "    <tr style=\"text-align: right;\">\n",
       "      <th></th>\n",
       "      <th>url</th>\n",
       "      <th>label</th>\n",
       "      <th>urlSize</th>\n",
       "      <th>hostNameSize</th>\n",
       "    </tr>\n",
       "  </thead>\n",
       "  <tbody>\n",
       "    <tr>\n",
       "      <th>0</th>\n",
       "      <td>http://1337x.to/torrent/1048648/American-Snipe...</td>\n",
       "      <td>0</td>\n",
       "      <td>83</td>\n",
       "      <td>8</td>\n",
       "    </tr>\n",
       "    <tr>\n",
       "      <th>1</th>\n",
       "      <td>http://1337x.to/torrent/1110018/Blackhat-2015-...</td>\n",
       "      <td>0</td>\n",
       "      <td>83</td>\n",
       "      <td>8</td>\n",
       "    </tr>\n",
       "    <tr>\n",
       "      <th>2</th>\n",
       "      <td>http://1337x.to/torrent/1122940/Blackhat-2015-...</td>\n",
       "      <td>0</td>\n",
       "      <td>83</td>\n",
       "      <td>8</td>\n",
       "    </tr>\n",
       "    <tr>\n",
       "      <th>3</th>\n",
       "      <td>http://1337x.to/torrent/1124395/Fast-and-Furio...</td>\n",
       "      <td>0</td>\n",
       "      <td>83</td>\n",
       "      <td>8</td>\n",
       "    </tr>\n",
       "    <tr>\n",
       "      <th>4</th>\n",
       "      <td>http://1337x.to/torrent/1145504/Avengers-Age-o...</td>\n",
       "      <td>0</td>\n",
       "      <td>83</td>\n",
       "      <td>8</td>\n",
       "    </tr>\n",
       "  </tbody>\n",
       "</table>\n",
       "</div>"
      ],
      "text/plain": [
       "                                                 url  label  urlSize  \\\n",
       "0  http://1337x.to/torrent/1048648/American-Snipe...      0       83   \n",
       "1  http://1337x.to/torrent/1110018/Blackhat-2015-...      0       83   \n",
       "2  http://1337x.to/torrent/1122940/Blackhat-2015-...      0       83   \n",
       "3  http://1337x.to/torrent/1124395/Fast-and-Furio...      0       83   \n",
       "4  http://1337x.to/torrent/1145504/Avengers-Age-o...      0       83   \n",
       "\n",
       "   hostNameSize  \n",
       "0             8  \n",
       "1             8  \n",
       "2             8  \n",
       "3             8  \n",
       "4             8  "
      ]
     },
     "execution_count": 12,
     "metadata": {},
     "output_type": "execute_result"
    }
   ],
   "source": [
    "#Hostname Length\n",
    "data['hostNameSize'] = data['url'].apply(lambda i: len(urlparse(i).netloc))\n",
    "data.head()"
   ]
  },
  {
   "cell_type": "code",
   "execution_count": 13,
   "metadata": {
    "colab": {
     "base_uri": "https://localhost:8080/",
     "height": 261
    },
    "id": "3L-Bkx979rne",
    "outputId": "678424f9-0c17-4f79-c63e-8b1d4a86274d"
   },
   "outputs": [
    {
     "data": {
      "text/html": [
       "<div>\n",
       "<style scoped>\n",
       "    .dataframe tbody tr th:only-of-type {\n",
       "        vertical-align: middle;\n",
       "    }\n",
       "\n",
       "    .dataframe tbody tr th {\n",
       "        vertical-align: top;\n",
       "    }\n",
       "\n",
       "    .dataframe thead th {\n",
       "        text-align: right;\n",
       "    }\n",
       "</style>\n",
       "<table border=\"1\" class=\"dataframe\">\n",
       "  <thead>\n",
       "    <tr style=\"text-align: right;\">\n",
       "      <th></th>\n",
       "      <th>url</th>\n",
       "      <th>label</th>\n",
       "      <th>urlSize</th>\n",
       "      <th>hostNameSize</th>\n",
       "      <th>pathSize</th>\n",
       "    </tr>\n",
       "  </thead>\n",
       "  <tbody>\n",
       "    <tr>\n",
       "      <th>0</th>\n",
       "      <td>http://1337x.to/torrent/1048648/American-Snipe...</td>\n",
       "      <td>0</td>\n",
       "      <td>83</td>\n",
       "      <td>8</td>\n",
       "      <td>68</td>\n",
       "    </tr>\n",
       "    <tr>\n",
       "      <th>1</th>\n",
       "      <td>http://1337x.to/torrent/1110018/Blackhat-2015-...</td>\n",
       "      <td>0</td>\n",
       "      <td>83</td>\n",
       "      <td>8</td>\n",
       "      <td>68</td>\n",
       "    </tr>\n",
       "    <tr>\n",
       "      <th>2</th>\n",
       "      <td>http://1337x.to/torrent/1122940/Blackhat-2015-...</td>\n",
       "      <td>0</td>\n",
       "      <td>83</td>\n",
       "      <td>8</td>\n",
       "      <td>68</td>\n",
       "    </tr>\n",
       "    <tr>\n",
       "      <th>3</th>\n",
       "      <td>http://1337x.to/torrent/1124395/Fast-and-Furio...</td>\n",
       "      <td>0</td>\n",
       "      <td>83</td>\n",
       "      <td>8</td>\n",
       "      <td>68</td>\n",
       "    </tr>\n",
       "    <tr>\n",
       "      <th>4</th>\n",
       "      <td>http://1337x.to/torrent/1145504/Avengers-Age-o...</td>\n",
       "      <td>0</td>\n",
       "      <td>83</td>\n",
       "      <td>8</td>\n",
       "      <td>68</td>\n",
       "    </tr>\n",
       "  </tbody>\n",
       "</table>\n",
       "</div>"
      ],
      "text/plain": [
       "                                                 url  label  urlSize  \\\n",
       "0  http://1337x.to/torrent/1048648/American-Snipe...      0       83   \n",
       "1  http://1337x.to/torrent/1110018/Blackhat-2015-...      0       83   \n",
       "2  http://1337x.to/torrent/1122940/Blackhat-2015-...      0       83   \n",
       "3  http://1337x.to/torrent/1124395/Fast-and-Furio...      0       83   \n",
       "4  http://1337x.to/torrent/1145504/Avengers-Age-o...      0       83   \n",
       "\n",
       "   hostNameSize  pathSize  \n",
       "0             8        68  \n",
       "1             8        68  \n",
       "2             8        68  \n",
       "3             8        68  \n",
       "4             8        68  "
      ]
     },
     "execution_count": 13,
     "metadata": {},
     "output_type": "execute_result"
    }
   ],
   "source": [
    "#Path Length\n",
    "data['pathSize'] = data['url'].apply(lambda i: len(urlparse(i).path))\n",
    "data.head()"
   ]
  },
  {
   "cell_type": "code",
   "execution_count": 14,
   "metadata": {
    "colab": {
     "base_uri": "https://localhost:8080/",
     "height": 261
    },
    "id": "SRZ9R3D49rnf",
    "outputId": "5d38a0ec-4e10-4717-981b-6d67e7dc8f7a"
   },
   "outputs": [
    {
     "data": {
      "text/html": [
       "<div>\n",
       "<style scoped>\n",
       "    .dataframe tbody tr th:only-of-type {\n",
       "        vertical-align: middle;\n",
       "    }\n",
       "\n",
       "    .dataframe tbody tr th {\n",
       "        vertical-align: top;\n",
       "    }\n",
       "\n",
       "    .dataframe thead th {\n",
       "        text-align: right;\n",
       "    }\n",
       "</style>\n",
       "<table border=\"1\" class=\"dataframe\">\n",
       "  <thead>\n",
       "    <tr style=\"text-align: right;\">\n",
       "      <th></th>\n",
       "      <th>url</th>\n",
       "      <th>label</th>\n",
       "      <th>urlSize</th>\n",
       "      <th>hostNameSize</th>\n",
       "      <th>pathSize</th>\n",
       "      <th>firstDirSize</th>\n",
       "    </tr>\n",
       "  </thead>\n",
       "  <tbody>\n",
       "    <tr>\n",
       "      <th>0</th>\n",
       "      <td>http://1337x.to/torrent/1048648/American-Snipe...</td>\n",
       "      <td>0</td>\n",
       "      <td>83</td>\n",
       "      <td>8</td>\n",
       "      <td>68</td>\n",
       "      <td>7</td>\n",
       "    </tr>\n",
       "    <tr>\n",
       "      <th>1</th>\n",
       "      <td>http://1337x.to/torrent/1110018/Blackhat-2015-...</td>\n",
       "      <td>0</td>\n",
       "      <td>83</td>\n",
       "      <td>8</td>\n",
       "      <td>68</td>\n",
       "      <td>7</td>\n",
       "    </tr>\n",
       "    <tr>\n",
       "      <th>2</th>\n",
       "      <td>http://1337x.to/torrent/1122940/Blackhat-2015-...</td>\n",
       "      <td>0</td>\n",
       "      <td>83</td>\n",
       "      <td>8</td>\n",
       "      <td>68</td>\n",
       "      <td>7</td>\n",
       "    </tr>\n",
       "    <tr>\n",
       "      <th>3</th>\n",
       "      <td>http://1337x.to/torrent/1124395/Fast-and-Furio...</td>\n",
       "      <td>0</td>\n",
       "      <td>83</td>\n",
       "      <td>8</td>\n",
       "      <td>68</td>\n",
       "      <td>7</td>\n",
       "    </tr>\n",
       "    <tr>\n",
       "      <th>4</th>\n",
       "      <td>http://1337x.to/torrent/1145504/Avengers-Age-o...</td>\n",
       "      <td>0</td>\n",
       "      <td>83</td>\n",
       "      <td>8</td>\n",
       "      <td>68</td>\n",
       "      <td>7</td>\n",
       "    </tr>\n",
       "  </tbody>\n",
       "</table>\n",
       "</div>"
      ],
      "text/plain": [
       "                                                 url  label  urlSize  \\\n",
       "0  http://1337x.to/torrent/1048648/American-Snipe...      0       83   \n",
       "1  http://1337x.to/torrent/1110018/Blackhat-2015-...      0       83   \n",
       "2  http://1337x.to/torrent/1122940/Blackhat-2015-...      0       83   \n",
       "3  http://1337x.to/torrent/1124395/Fast-and-Furio...      0       83   \n",
       "4  http://1337x.to/torrent/1145504/Avengers-Age-o...      0       83   \n",
       "\n",
       "   hostNameSize  pathSize  firstDirSize  \n",
       "0             8        68             7  \n",
       "1             8        68             7  \n",
       "2             8        68             7  \n",
       "3             8        68             7  \n",
       "4             8        68             7  "
      ]
     },
     "execution_count": 14,
     "metadata": {},
     "output_type": "execute_result"
    }
   ],
   "source": [
    "#Function for finding first directory\n",
    "def firstDirSize(url):\n",
    "    urlpath= urlparse(url).path\n",
    "    try:\n",
    "        return len(urlpath.split('/')[1])\n",
    "    except:\n",
    "        return 0\n",
    "\n",
    "data['firstDirSize'] = data['url'].apply(lambda i: firstDirSize(i))\n",
    "data.head()"
   ]
  },
  {
   "cell_type": "code",
   "execution_count": 15,
   "metadata": {
    "colab": {
     "base_uri": "https://localhost:8080/",
     "height": 261
    },
    "id": "EqdEHll79rnf",
    "outputId": "f7645215-1481-41c3-8f66-091cff43d711"
   },
   "outputs": [
    {
     "data": {
      "text/html": [
       "<div>\n",
       "<style scoped>\n",
       "    .dataframe tbody tr th:only-of-type {\n",
       "        vertical-align: middle;\n",
       "    }\n",
       "\n",
       "    .dataframe tbody tr th {\n",
       "        vertical-align: top;\n",
       "    }\n",
       "\n",
       "    .dataframe thead th {\n",
       "        text-align: right;\n",
       "    }\n",
       "</style>\n",
       "<table border=\"1\" class=\"dataframe\">\n",
       "  <thead>\n",
       "    <tr style=\"text-align: right;\">\n",
       "      <th></th>\n",
       "      <th>url</th>\n",
       "      <th>label</th>\n",
       "      <th>urlSize</th>\n",
       "      <th>hostNameSize</th>\n",
       "      <th>pathSize</th>\n",
       "      <th>firstDirSize</th>\n",
       "      <th>tld</th>\n",
       "    </tr>\n",
       "  </thead>\n",
       "  <tbody>\n",
       "    <tr>\n",
       "      <th>0</th>\n",
       "      <td>http://1337x.to/torrent/1048648/American-Snipe...</td>\n",
       "      <td>0</td>\n",
       "      <td>83</td>\n",
       "      <td>8</td>\n",
       "      <td>68</td>\n",
       "      <td>7</td>\n",
       "      <td>to</td>\n",
       "    </tr>\n",
       "    <tr>\n",
       "      <th>1</th>\n",
       "      <td>http://1337x.to/torrent/1110018/Blackhat-2015-...</td>\n",
       "      <td>0</td>\n",
       "      <td>83</td>\n",
       "      <td>8</td>\n",
       "      <td>68</td>\n",
       "      <td>7</td>\n",
       "      <td>to</td>\n",
       "    </tr>\n",
       "    <tr>\n",
       "      <th>2</th>\n",
       "      <td>http://1337x.to/torrent/1122940/Blackhat-2015-...</td>\n",
       "      <td>0</td>\n",
       "      <td>83</td>\n",
       "      <td>8</td>\n",
       "      <td>68</td>\n",
       "      <td>7</td>\n",
       "      <td>to</td>\n",
       "    </tr>\n",
       "    <tr>\n",
       "      <th>3</th>\n",
       "      <td>http://1337x.to/torrent/1124395/Fast-and-Furio...</td>\n",
       "      <td>0</td>\n",
       "      <td>83</td>\n",
       "      <td>8</td>\n",
       "      <td>68</td>\n",
       "      <td>7</td>\n",
       "      <td>to</td>\n",
       "    </tr>\n",
       "    <tr>\n",
       "      <th>4</th>\n",
       "      <td>http://1337x.to/torrent/1145504/Avengers-Age-o...</td>\n",
       "      <td>0</td>\n",
       "      <td>83</td>\n",
       "      <td>8</td>\n",
       "      <td>68</td>\n",
       "      <td>7</td>\n",
       "      <td>to</td>\n",
       "    </tr>\n",
       "  </tbody>\n",
       "</table>\n",
       "</div>"
      ],
      "text/plain": [
       "                                                 url  label  urlSize  \\\n",
       "0  http://1337x.to/torrent/1048648/American-Snipe...      0       83   \n",
       "1  http://1337x.to/torrent/1110018/Blackhat-2015-...      0       83   \n",
       "2  http://1337x.to/torrent/1122940/Blackhat-2015-...      0       83   \n",
       "3  http://1337x.to/torrent/1124395/Fast-and-Furio...      0       83   \n",
       "4  http://1337x.to/torrent/1145504/Avengers-Age-o...      0       83   \n",
       "\n",
       "   hostNameSize  pathSize  firstDirSize tld  \n",
       "0             8        68             7  to  \n",
       "1             8        68             7  to  \n",
       "2             8        68             7  to  \n",
       "3             8        68             7  to  \n",
       "4             8        68             7  to  "
      ]
     },
     "execution_count": 15,
     "metadata": {},
     "output_type": "execute_result"
    }
   ],
   "source": [
    "#Top Level Domain\n",
    "data['tld'] = data['url'].apply(lambda i: get_tld(i,fail_silently=True))\n",
    "data.head()"
   ]
  },
  {
   "cell_type": "code",
   "execution_count": 16,
   "metadata": {
    "colab": {
     "base_uri": "https://localhost:8080/",
     "height": 261
    },
    "id": "GP-4JrmT9rnf",
    "outputId": "666e54e2-09aa-48f3-8091-c23c0c983b82"
   },
   "outputs": [
    {
     "data": {
      "text/html": [
       "<div>\n",
       "<style scoped>\n",
       "    .dataframe tbody tr th:only-of-type {\n",
       "        vertical-align: middle;\n",
       "    }\n",
       "\n",
       "    .dataframe tbody tr th {\n",
       "        vertical-align: top;\n",
       "    }\n",
       "\n",
       "    .dataframe thead th {\n",
       "        text-align: right;\n",
       "    }\n",
       "</style>\n",
       "<table border=\"1\" class=\"dataframe\">\n",
       "  <thead>\n",
       "    <tr style=\"text-align: right;\">\n",
       "      <th></th>\n",
       "      <th>url</th>\n",
       "      <th>label</th>\n",
       "      <th>urlSize</th>\n",
       "      <th>hostNameSize</th>\n",
       "      <th>pathSize</th>\n",
       "      <th>firstDirSize</th>\n",
       "      <th>tld</th>\n",
       "      <th>tldSize</th>\n",
       "    </tr>\n",
       "  </thead>\n",
       "  <tbody>\n",
       "    <tr>\n",
       "      <th>0</th>\n",
       "      <td>http://1337x.to/torrent/1048648/American-Snipe...</td>\n",
       "      <td>0</td>\n",
       "      <td>83</td>\n",
       "      <td>8</td>\n",
       "      <td>68</td>\n",
       "      <td>7</td>\n",
       "      <td>to</td>\n",
       "      <td>2</td>\n",
       "    </tr>\n",
       "    <tr>\n",
       "      <th>1</th>\n",
       "      <td>http://1337x.to/torrent/1110018/Blackhat-2015-...</td>\n",
       "      <td>0</td>\n",
       "      <td>83</td>\n",
       "      <td>8</td>\n",
       "      <td>68</td>\n",
       "      <td>7</td>\n",
       "      <td>to</td>\n",
       "      <td>2</td>\n",
       "    </tr>\n",
       "    <tr>\n",
       "      <th>2</th>\n",
       "      <td>http://1337x.to/torrent/1122940/Blackhat-2015-...</td>\n",
       "      <td>0</td>\n",
       "      <td>83</td>\n",
       "      <td>8</td>\n",
       "      <td>68</td>\n",
       "      <td>7</td>\n",
       "      <td>to</td>\n",
       "      <td>2</td>\n",
       "    </tr>\n",
       "    <tr>\n",
       "      <th>3</th>\n",
       "      <td>http://1337x.to/torrent/1124395/Fast-and-Furio...</td>\n",
       "      <td>0</td>\n",
       "      <td>83</td>\n",
       "      <td>8</td>\n",
       "      <td>68</td>\n",
       "      <td>7</td>\n",
       "      <td>to</td>\n",
       "      <td>2</td>\n",
       "    </tr>\n",
       "    <tr>\n",
       "      <th>4</th>\n",
       "      <td>http://1337x.to/torrent/1145504/Avengers-Age-o...</td>\n",
       "      <td>0</td>\n",
       "      <td>83</td>\n",
       "      <td>8</td>\n",
       "      <td>68</td>\n",
       "      <td>7</td>\n",
       "      <td>to</td>\n",
       "      <td>2</td>\n",
       "    </tr>\n",
       "  </tbody>\n",
       "</table>\n",
       "</div>"
      ],
      "text/plain": [
       "                                                 url  label  urlSize  \\\n",
       "0  http://1337x.to/torrent/1048648/American-Snipe...      0       83   \n",
       "1  http://1337x.to/torrent/1110018/Blackhat-2015-...      0       83   \n",
       "2  http://1337x.to/torrent/1122940/Blackhat-2015-...      0       83   \n",
       "3  http://1337x.to/torrent/1124395/Fast-and-Furio...      0       83   \n",
       "4  http://1337x.to/torrent/1145504/Avengers-Age-o...      0       83   \n",
       "\n",
       "   hostNameSize  pathSize  firstDirSize tld  tldSize  \n",
       "0             8        68             7  to        2  \n",
       "1             8        68             7  to        2  \n",
       "2             8        68             7  to        2  \n",
       "3             8        68             7  to        2  \n",
       "4             8        68             7  to        2  "
      ]
     },
     "execution_count": 16,
     "metadata": {},
     "output_type": "execute_result"
    }
   ],
   "source": [
    "#Length of Top Level Domain\n",
    "\n",
    "def tldSize(tld):\n",
    "    try:\n",
    "        return len(tld)\n",
    "    except:\n",
    "        return -1\n",
    "\n",
    "data['tldSize'] = data['tld'].apply(lambda i: tldSize(i))\n",
    "\n",
    "data.head()"
   ]
  },
  {
   "cell_type": "code",
   "execution_count": 17,
   "metadata": {
    "colab": {
     "base_uri": "https://localhost:8080/",
     "height": 261
    },
    "id": "XX6NiOwD9rnf",
    "outputId": "c0b409b8-3761-413e-afe8-0fe3ab4d2c97"
   },
   "outputs": [
    {
     "data": {
      "text/html": [
       "<div>\n",
       "<style scoped>\n",
       "    .dataframe tbody tr th:only-of-type {\n",
       "        vertical-align: middle;\n",
       "    }\n",
       "\n",
       "    .dataframe tbody tr th {\n",
       "        vertical-align: top;\n",
       "    }\n",
       "\n",
       "    .dataframe thead th {\n",
       "        text-align: right;\n",
       "    }\n",
       "</style>\n",
       "<table border=\"1\" class=\"dataframe\">\n",
       "  <thead>\n",
       "    <tr style=\"text-align: right;\">\n",
       "      <th></th>\n",
       "      <th>url</th>\n",
       "      <th>label</th>\n",
       "      <th>urlSize</th>\n",
       "      <th>hostNameSize</th>\n",
       "      <th>pathSize</th>\n",
       "      <th>firstDirSize</th>\n",
       "      <th>tld</th>\n",
       "      <th>tldSize</th>\n",
       "      <th>Num-</th>\n",
       "      <th>Num@</th>\n",
       "      <th>Num?</th>\n",
       "      <th>Num%</th>\n",
       "      <th>Num.</th>\n",
       "      <th>Num=</th>\n",
       "      <th>NumHTTP</th>\n",
       "      <th>NumHTTPS</th>\n",
       "      <th>NumWWW</th>\n",
       "    </tr>\n",
       "  </thead>\n",
       "  <tbody>\n",
       "    <tr>\n",
       "      <th>0</th>\n",
       "      <td>http://1337x.to/torrent/1048648/American-Snipe...</td>\n",
       "      <td>0</td>\n",
       "      <td>83</td>\n",
       "      <td>8</td>\n",
       "      <td>68</td>\n",
       "      <td>7</td>\n",
       "      <td>to</td>\n",
       "      <td>2</td>\n",
       "      <td>8</td>\n",
       "      <td>0</td>\n",
       "      <td>0</td>\n",
       "      <td>0</td>\n",
       "      <td>1</td>\n",
       "      <td>0</td>\n",
       "      <td>1</td>\n",
       "      <td>0</td>\n",
       "      <td>0</td>\n",
       "    </tr>\n",
       "    <tr>\n",
       "      <th>1</th>\n",
       "      <td>http://1337x.to/torrent/1110018/Blackhat-2015-...</td>\n",
       "      <td>0</td>\n",
       "      <td>83</td>\n",
       "      <td>8</td>\n",
       "      <td>68</td>\n",
       "      <td>7</td>\n",
       "      <td>to</td>\n",
       "      <td>2</td>\n",
       "      <td>9</td>\n",
       "      <td>0</td>\n",
       "      <td>0</td>\n",
       "      <td>0</td>\n",
       "      <td>1</td>\n",
       "      <td>0</td>\n",
       "      <td>1</td>\n",
       "      <td>0</td>\n",
       "      <td>0</td>\n",
       "    </tr>\n",
       "    <tr>\n",
       "      <th>2</th>\n",
       "      <td>http://1337x.to/torrent/1122940/Blackhat-2015-...</td>\n",
       "      <td>0</td>\n",
       "      <td>83</td>\n",
       "      <td>8</td>\n",
       "      <td>68</td>\n",
       "      <td>7</td>\n",
       "      <td>to</td>\n",
       "      <td>2</td>\n",
       "      <td>9</td>\n",
       "      <td>0</td>\n",
       "      <td>0</td>\n",
       "      <td>0</td>\n",
       "      <td>1</td>\n",
       "      <td>0</td>\n",
       "      <td>1</td>\n",
       "      <td>0</td>\n",
       "      <td>0</td>\n",
       "    </tr>\n",
       "    <tr>\n",
       "      <th>3</th>\n",
       "      <td>http://1337x.to/torrent/1124395/Fast-and-Furio...</td>\n",
       "      <td>0</td>\n",
       "      <td>83</td>\n",
       "      <td>8</td>\n",
       "      <td>68</td>\n",
       "      <td>7</td>\n",
       "      <td>to</td>\n",
       "      <td>2</td>\n",
       "      <td>11</td>\n",
       "      <td>0</td>\n",
       "      <td>0</td>\n",
       "      <td>0</td>\n",
       "      <td>1</td>\n",
       "      <td>0</td>\n",
       "      <td>1</td>\n",
       "      <td>0</td>\n",
       "      <td>0</td>\n",
       "    </tr>\n",
       "    <tr>\n",
       "      <th>4</th>\n",
       "      <td>http://1337x.to/torrent/1145504/Avengers-Age-o...</td>\n",
       "      <td>0</td>\n",
       "      <td>83</td>\n",
       "      <td>8</td>\n",
       "      <td>68</td>\n",
       "      <td>7</td>\n",
       "      <td>to</td>\n",
       "      <td>2</td>\n",
       "      <td>9</td>\n",
       "      <td>0</td>\n",
       "      <td>0</td>\n",
       "      <td>0</td>\n",
       "      <td>1</td>\n",
       "      <td>0</td>\n",
       "      <td>1</td>\n",
       "      <td>0</td>\n",
       "      <td>0</td>\n",
       "    </tr>\n",
       "  </tbody>\n",
       "</table>\n",
       "</div>"
      ],
      "text/plain": [
       "                                                 url  label  urlSize  \\\n",
       "0  http://1337x.to/torrent/1048648/American-Snipe...      0       83   \n",
       "1  http://1337x.to/torrent/1110018/Blackhat-2015-...      0       83   \n",
       "2  http://1337x.to/torrent/1122940/Blackhat-2015-...      0       83   \n",
       "3  http://1337x.to/torrent/1124395/Fast-and-Furio...      0       83   \n",
       "4  http://1337x.to/torrent/1145504/Avengers-Age-o...      0       83   \n",
       "\n",
       "   hostNameSize  pathSize  firstDirSize tld  tldSize  Num-  Num@  Num?  Num%  \\\n",
       "0             8        68             7  to        2     8     0     0     0   \n",
       "1             8        68             7  to        2     9     0     0     0   \n",
       "2             8        68             7  to        2     9     0     0     0   \n",
       "3             8        68             7  to        2    11     0     0     0   \n",
       "4             8        68             7  to        2     9     0     0     0   \n",
       "\n",
       "   Num.  Num=  NumHTTP  NumHTTPS  NumWWW  \n",
       "0     1     0        1         0       0  \n",
       "1     1     0        1         0       0  \n",
       "2     1     0        1         0       0  \n",
       "3     1     0        1         0       0  \n",
       "4     1     0        1         0       0  "
      ]
     },
     "execution_count": 17,
     "metadata": {},
     "output_type": "execute_result"
    }
   ],
   "source": [
    "data['Num-'] = data['url'].apply(lambda i: i.count('-'))\n",
    "data['Num@'] = data['url'].apply(lambda i: i.count('@'))\n",
    "data['Num?'] = data['url'].apply(lambda i: i.count('?'))\n",
    "data['Num%'] = data['url'].apply(lambda i: i.count('%'))\n",
    "data['Num.'] = data['url'].apply(lambda i: i.count('.'))\n",
    "data['Num='] = data['url'].apply(lambda i: i.count('='))\n",
    "data['NumHTTP'] = data['url'].apply(lambda i : i.count('http'))\n",
    "data['NumHTTPS'] = data['url'].apply(lambda i : i.count('https'))\n",
    "data['NumWWW'] = data['url'].apply(lambda i: i.count('www'))\n",
    "data.head()"
   ]
  },
  {
   "cell_type": "code",
   "execution_count": 18,
   "metadata": {
    "colab": {
     "base_uri": "https://localhost:8080/",
     "height": 261
    },
    "id": "bqhG79WO9rng",
    "outputId": "fc628919-9520-4ef8-ce20-bea0508efa6f"
   },
   "outputs": [
    {
     "data": {
      "text/html": [
       "<div>\n",
       "<style scoped>\n",
       "    .dataframe tbody tr th:only-of-type {\n",
       "        vertical-align: middle;\n",
       "    }\n",
       "\n",
       "    .dataframe tbody tr th {\n",
       "        vertical-align: top;\n",
       "    }\n",
       "\n",
       "    .dataframe thead th {\n",
       "        text-align: right;\n",
       "    }\n",
       "</style>\n",
       "<table border=\"1\" class=\"dataframe\">\n",
       "  <thead>\n",
       "    <tr style=\"text-align: right;\">\n",
       "      <th></th>\n",
       "      <th>url</th>\n",
       "      <th>label</th>\n",
       "      <th>urlSize</th>\n",
       "      <th>hostNameSize</th>\n",
       "      <th>pathSize</th>\n",
       "      <th>firstDirSize</th>\n",
       "      <th>tld</th>\n",
       "      <th>tldSize</th>\n",
       "      <th>Num-</th>\n",
       "      <th>Num@</th>\n",
       "      <th>Num?</th>\n",
       "      <th>Num%</th>\n",
       "      <th>Num.</th>\n",
       "      <th>Num=</th>\n",
       "      <th>NumHTTP</th>\n",
       "      <th>NumHTTPS</th>\n",
       "      <th>NumWWW</th>\n",
       "      <th>NumDigits</th>\n",
       "    </tr>\n",
       "  </thead>\n",
       "  <tbody>\n",
       "    <tr>\n",
       "      <th>0</th>\n",
       "      <td>http://1337x.to/torrent/1048648/American-Snipe...</td>\n",
       "      <td>0</td>\n",
       "      <td>83</td>\n",
       "      <td>8</td>\n",
       "      <td>68</td>\n",
       "      <td>7</td>\n",
       "      <td>to</td>\n",
       "      <td>2</td>\n",
       "      <td>8</td>\n",
       "      <td>0</td>\n",
       "      <td>0</td>\n",
       "      <td>0</td>\n",
       "      <td>1</td>\n",
       "      <td>0</td>\n",
       "      <td>1</td>\n",
       "      <td>0</td>\n",
       "      <td>0</td>\n",
       "      <td>18</td>\n",
       "    </tr>\n",
       "    <tr>\n",
       "      <th>1</th>\n",
       "      <td>http://1337x.to/torrent/1110018/Blackhat-2015-...</td>\n",
       "      <td>0</td>\n",
       "      <td>83</td>\n",
       "      <td>8</td>\n",
       "      <td>68</td>\n",
       "      <td>7</td>\n",
       "      <td>to</td>\n",
       "      <td>2</td>\n",
       "      <td>9</td>\n",
       "      <td>0</td>\n",
       "      <td>0</td>\n",
       "      <td>0</td>\n",
       "      <td>1</td>\n",
       "      <td>0</td>\n",
       "      <td>1</td>\n",
       "      <td>0</td>\n",
       "      <td>0</td>\n",
       "      <td>23</td>\n",
       "    </tr>\n",
       "    <tr>\n",
       "      <th>2</th>\n",
       "      <td>http://1337x.to/torrent/1122940/Blackhat-2015-...</td>\n",
       "      <td>0</td>\n",
       "      <td>83</td>\n",
       "      <td>8</td>\n",
       "      <td>68</td>\n",
       "      <td>7</td>\n",
       "      <td>to</td>\n",
       "      <td>2</td>\n",
       "      <td>9</td>\n",
       "      <td>0</td>\n",
       "      <td>0</td>\n",
       "      <td>0</td>\n",
       "      <td>1</td>\n",
       "      <td>0</td>\n",
       "      <td>1</td>\n",
       "      <td>0</td>\n",
       "      <td>0</td>\n",
       "      <td>22</td>\n",
       "    </tr>\n",
       "    <tr>\n",
       "      <th>3</th>\n",
       "      <td>http://1337x.to/torrent/1124395/Fast-and-Furio...</td>\n",
       "      <td>0</td>\n",
       "      <td>83</td>\n",
       "      <td>8</td>\n",
       "      <td>68</td>\n",
       "      <td>7</td>\n",
       "      <td>to</td>\n",
       "      <td>2</td>\n",
       "      <td>11</td>\n",
       "      <td>0</td>\n",
       "      <td>0</td>\n",
       "      <td>0</td>\n",
       "      <td>1</td>\n",
       "      <td>0</td>\n",
       "      <td>1</td>\n",
       "      <td>0</td>\n",
       "      <td>0</td>\n",
       "      <td>18</td>\n",
       "    </tr>\n",
       "    <tr>\n",
       "      <th>4</th>\n",
       "      <td>http://1337x.to/torrent/1145504/Avengers-Age-o...</td>\n",
       "      <td>0</td>\n",
       "      <td>83</td>\n",
       "      <td>8</td>\n",
       "      <td>68</td>\n",
       "      <td>7</td>\n",
       "      <td>to</td>\n",
       "      <td>2</td>\n",
       "      <td>9</td>\n",
       "      <td>0</td>\n",
       "      <td>0</td>\n",
       "      <td>0</td>\n",
       "      <td>1</td>\n",
       "      <td>0</td>\n",
       "      <td>1</td>\n",
       "      <td>0</td>\n",
       "      <td>0</td>\n",
       "      <td>18</td>\n",
       "    </tr>\n",
       "  </tbody>\n",
       "</table>\n",
       "</div>"
      ],
      "text/plain": [
       "                                                 url  label  urlSize  \\\n",
       "0  http://1337x.to/torrent/1048648/American-Snipe...      0       83   \n",
       "1  http://1337x.to/torrent/1110018/Blackhat-2015-...      0       83   \n",
       "2  http://1337x.to/torrent/1122940/Blackhat-2015-...      0       83   \n",
       "3  http://1337x.to/torrent/1124395/Fast-and-Furio...      0       83   \n",
       "4  http://1337x.to/torrent/1145504/Avengers-Age-o...      0       83   \n",
       "\n",
       "   hostNameSize  pathSize  firstDirSize tld  tldSize  Num-  Num@  Num?  Num%  \\\n",
       "0             8        68             7  to        2     8     0     0     0   \n",
       "1             8        68             7  to        2     9     0     0     0   \n",
       "2             8        68             7  to        2     9     0     0     0   \n",
       "3             8        68             7  to        2    11     0     0     0   \n",
       "4             8        68             7  to        2     9     0     0     0   \n",
       "\n",
       "   Num.  Num=  NumHTTP  NumHTTPS  NumWWW  NumDigits  \n",
       "0     1     0        1         0       0         18  \n",
       "1     1     0        1         0       0         23  \n",
       "2     1     0        1         0       0         22  \n",
       "3     1     0        1         0       0         18  \n",
       "4     1     0        1         0       0         18  "
      ]
     },
     "execution_count": 18,
     "metadata": {},
     "output_type": "execute_result"
    }
   ],
   "source": [
    "def digitTotal(url):\n",
    "    digits = 0\n",
    "    for i in url:\n",
    "        if i.isnumeric():\n",
    "            digits = digits + 1\n",
    "    return digits\n",
    "data['NumDigits']= data['url'].apply(lambda i: digitTotal(i))\n",
    "data.head()"
   ]
  },
  {
   "cell_type": "code",
   "execution_count": 19,
   "metadata": {
    "colab": {
     "base_uri": "https://localhost:8080/",
     "height": 348
    },
    "id": "wR7kBmcu9rng",
    "outputId": "21f40297-4603-4eb7-d597-0a0cc269d207"
   },
   "outputs": [
    {
     "data": {
      "text/html": [
       "<div>\n",
       "<style scoped>\n",
       "    .dataframe tbody tr th:only-of-type {\n",
       "        vertical-align: middle;\n",
       "    }\n",
       "\n",
       "    .dataframe tbody tr th {\n",
       "        vertical-align: top;\n",
       "    }\n",
       "\n",
       "    .dataframe thead th {\n",
       "        text-align: right;\n",
       "    }\n",
       "</style>\n",
       "<table border=\"1\" class=\"dataframe\">\n",
       "  <thead>\n",
       "    <tr style=\"text-align: right;\">\n",
       "      <th></th>\n",
       "      <th>url</th>\n",
       "      <th>label</th>\n",
       "      <th>urlSize</th>\n",
       "      <th>hostNameSize</th>\n",
       "      <th>pathSize</th>\n",
       "      <th>firstDirSize</th>\n",
       "      <th>tld</th>\n",
       "      <th>tldSize</th>\n",
       "      <th>Num-</th>\n",
       "      <th>Num@</th>\n",
       "      <th>Num?</th>\n",
       "      <th>Num%</th>\n",
       "      <th>Num.</th>\n",
       "      <th>Num=</th>\n",
       "      <th>NumHTTP</th>\n",
       "      <th>NumHTTPS</th>\n",
       "      <th>NumWWW</th>\n",
       "      <th>NumDigits</th>\n",
       "      <th>NumLetters</th>\n",
       "    </tr>\n",
       "  </thead>\n",
       "  <tbody>\n",
       "    <tr>\n",
       "      <th>0</th>\n",
       "      <td>http://1337x.to/torrent/1048648/American-Snipe...</td>\n",
       "      <td>0</td>\n",
       "      <td>83</td>\n",
       "      <td>8</td>\n",
       "      <td>68</td>\n",
       "      <td>7</td>\n",
       "      <td>to</td>\n",
       "      <td>2</td>\n",
       "      <td>8</td>\n",
       "      <td>0</td>\n",
       "      <td>0</td>\n",
       "      <td>0</td>\n",
       "      <td>1</td>\n",
       "      <td>0</td>\n",
       "      <td>1</td>\n",
       "      <td>0</td>\n",
       "      <td>0</td>\n",
       "      <td>18</td>\n",
       "      <td>49</td>\n",
       "    </tr>\n",
       "    <tr>\n",
       "      <th>1</th>\n",
       "      <td>http://1337x.to/torrent/1110018/Blackhat-2015-...</td>\n",
       "      <td>0</td>\n",
       "      <td>83</td>\n",
       "      <td>8</td>\n",
       "      <td>68</td>\n",
       "      <td>7</td>\n",
       "      <td>to</td>\n",
       "      <td>2</td>\n",
       "      <td>9</td>\n",
       "      <td>0</td>\n",
       "      <td>0</td>\n",
       "      <td>0</td>\n",
       "      <td>1</td>\n",
       "      <td>0</td>\n",
       "      <td>1</td>\n",
       "      <td>0</td>\n",
       "      <td>0</td>\n",
       "      <td>23</td>\n",
       "      <td>43</td>\n",
       "    </tr>\n",
       "    <tr>\n",
       "      <th>2</th>\n",
       "      <td>http://1337x.to/torrent/1122940/Blackhat-2015-...</td>\n",
       "      <td>0</td>\n",
       "      <td>83</td>\n",
       "      <td>8</td>\n",
       "      <td>68</td>\n",
       "      <td>7</td>\n",
       "      <td>to</td>\n",
       "      <td>2</td>\n",
       "      <td>9</td>\n",
       "      <td>0</td>\n",
       "      <td>0</td>\n",
       "      <td>0</td>\n",
       "      <td>1</td>\n",
       "      <td>0</td>\n",
       "      <td>1</td>\n",
       "      <td>0</td>\n",
       "      <td>0</td>\n",
       "      <td>22</td>\n",
       "      <td>44</td>\n",
       "    </tr>\n",
       "    <tr>\n",
       "      <th>3</th>\n",
       "      <td>http://1337x.to/torrent/1124395/Fast-and-Furio...</td>\n",
       "      <td>0</td>\n",
       "      <td>83</td>\n",
       "      <td>8</td>\n",
       "      <td>68</td>\n",
       "      <td>7</td>\n",
       "      <td>to</td>\n",
       "      <td>2</td>\n",
       "      <td>11</td>\n",
       "      <td>0</td>\n",
       "      <td>0</td>\n",
       "      <td>0</td>\n",
       "      <td>1</td>\n",
       "      <td>0</td>\n",
       "      <td>1</td>\n",
       "      <td>0</td>\n",
       "      <td>0</td>\n",
       "      <td>18</td>\n",
       "      <td>46</td>\n",
       "    </tr>\n",
       "    <tr>\n",
       "      <th>4</th>\n",
       "      <td>http://1337x.to/torrent/1145504/Avengers-Age-o...</td>\n",
       "      <td>0</td>\n",
       "      <td>83</td>\n",
       "      <td>8</td>\n",
       "      <td>68</td>\n",
       "      <td>7</td>\n",
       "      <td>to</td>\n",
       "      <td>2</td>\n",
       "      <td>9</td>\n",
       "      <td>0</td>\n",
       "      <td>0</td>\n",
       "      <td>0</td>\n",
       "      <td>1</td>\n",
       "      <td>0</td>\n",
       "      <td>1</td>\n",
       "      <td>0</td>\n",
       "      <td>0</td>\n",
       "      <td>18</td>\n",
       "      <td>48</td>\n",
       "    </tr>\n",
       "  </tbody>\n",
       "</table>\n",
       "</div>"
      ],
      "text/plain": [
       "                                                 url  label  urlSize  \\\n",
       "0  http://1337x.to/torrent/1048648/American-Snipe...      0       83   \n",
       "1  http://1337x.to/torrent/1110018/Blackhat-2015-...      0       83   \n",
       "2  http://1337x.to/torrent/1122940/Blackhat-2015-...      0       83   \n",
       "3  http://1337x.to/torrent/1124395/Fast-and-Furio...      0       83   \n",
       "4  http://1337x.to/torrent/1145504/Avengers-Age-o...      0       83   \n",
       "\n",
       "   hostNameSize  pathSize  firstDirSize tld  tldSize  Num-  Num@  Num?  Num%  \\\n",
       "0             8        68             7  to        2     8     0     0     0   \n",
       "1             8        68             7  to        2     9     0     0     0   \n",
       "2             8        68             7  to        2     9     0     0     0   \n",
       "3             8        68             7  to        2    11     0     0     0   \n",
       "4             8        68             7  to        2     9     0     0     0   \n",
       "\n",
       "   Num.  Num=  NumHTTP  NumHTTPS  NumWWW  NumDigits  NumLetters  \n",
       "0     1     0        1         0       0         18          49  \n",
       "1     1     0        1         0       0         23          43  \n",
       "2     1     0        1         0       0         22          44  \n",
       "3     1     0        1         0       0         18          46  \n",
       "4     1     0        1         0       0         18          48  "
      ]
     },
     "execution_count": 19,
     "metadata": {},
     "output_type": "execute_result"
    }
   ],
   "source": [
    "def letterTotal(url):\n",
    "    letters = 0\n",
    "    for i in url:\n",
    "        if i.isalpha():\n",
    "            letters = letters + 1\n",
    "    return letters\n",
    "data['NumLetters']= data['url'].apply(lambda i: letterTotal(i))\n",
    "data.head()"
   ]
  },
  {
   "cell_type": "code",
   "execution_count": 20,
   "metadata": {
    "colab": {
     "base_uri": "https://localhost:8080/",
     "height": 348
    },
    "id": "TyxarAgw9rng",
    "outputId": "018ecc59-3277-4f00-fdf3-4a2a21c0575a"
   },
   "outputs": [
    {
     "data": {
      "text/html": [
       "<div>\n",
       "<style scoped>\n",
       "    .dataframe tbody tr th:only-of-type {\n",
       "        vertical-align: middle;\n",
       "    }\n",
       "\n",
       "    .dataframe tbody tr th {\n",
       "        vertical-align: top;\n",
       "    }\n",
       "\n",
       "    .dataframe thead th {\n",
       "        text-align: right;\n",
       "    }\n",
       "</style>\n",
       "<table border=\"1\" class=\"dataframe\">\n",
       "  <thead>\n",
       "    <tr style=\"text-align: right;\">\n",
       "      <th></th>\n",
       "      <th>url</th>\n",
       "      <th>label</th>\n",
       "      <th>urlSize</th>\n",
       "      <th>hostNameSize</th>\n",
       "      <th>pathSize</th>\n",
       "      <th>firstDirSize</th>\n",
       "      <th>tld</th>\n",
       "      <th>tldSize</th>\n",
       "      <th>Num-</th>\n",
       "      <th>Num@</th>\n",
       "      <th>Num?</th>\n",
       "      <th>Num%</th>\n",
       "      <th>Num.</th>\n",
       "      <th>Num=</th>\n",
       "      <th>NumHTTP</th>\n",
       "      <th>NumHTTPS</th>\n",
       "      <th>NumWWW</th>\n",
       "      <th>NumDigits</th>\n",
       "      <th>NumLetters</th>\n",
       "      <th>NumDir</th>\n",
       "    </tr>\n",
       "  </thead>\n",
       "  <tbody>\n",
       "    <tr>\n",
       "      <th>0</th>\n",
       "      <td>http://1337x.to/torrent/1048648/American-Snipe...</td>\n",
       "      <td>0</td>\n",
       "      <td>83</td>\n",
       "      <td>8</td>\n",
       "      <td>68</td>\n",
       "      <td>7</td>\n",
       "      <td>to</td>\n",
       "      <td>2</td>\n",
       "      <td>8</td>\n",
       "      <td>0</td>\n",
       "      <td>0</td>\n",
       "      <td>0</td>\n",
       "      <td>1</td>\n",
       "      <td>0</td>\n",
       "      <td>1</td>\n",
       "      <td>0</td>\n",
       "      <td>0</td>\n",
       "      <td>18</td>\n",
       "      <td>49</td>\n",
       "      <td>4</td>\n",
       "    </tr>\n",
       "    <tr>\n",
       "      <th>1</th>\n",
       "      <td>http://1337x.to/torrent/1110018/Blackhat-2015-...</td>\n",
       "      <td>0</td>\n",
       "      <td>83</td>\n",
       "      <td>8</td>\n",
       "      <td>68</td>\n",
       "      <td>7</td>\n",
       "      <td>to</td>\n",
       "      <td>2</td>\n",
       "      <td>9</td>\n",
       "      <td>0</td>\n",
       "      <td>0</td>\n",
       "      <td>0</td>\n",
       "      <td>1</td>\n",
       "      <td>0</td>\n",
       "      <td>1</td>\n",
       "      <td>0</td>\n",
       "      <td>0</td>\n",
       "      <td>23</td>\n",
       "      <td>43</td>\n",
       "      <td>4</td>\n",
       "    </tr>\n",
       "    <tr>\n",
       "      <th>2</th>\n",
       "      <td>http://1337x.to/torrent/1122940/Blackhat-2015-...</td>\n",
       "      <td>0</td>\n",
       "      <td>83</td>\n",
       "      <td>8</td>\n",
       "      <td>68</td>\n",
       "      <td>7</td>\n",
       "      <td>to</td>\n",
       "      <td>2</td>\n",
       "      <td>9</td>\n",
       "      <td>0</td>\n",
       "      <td>0</td>\n",
       "      <td>0</td>\n",
       "      <td>1</td>\n",
       "      <td>0</td>\n",
       "      <td>1</td>\n",
       "      <td>0</td>\n",
       "      <td>0</td>\n",
       "      <td>22</td>\n",
       "      <td>44</td>\n",
       "      <td>4</td>\n",
       "    </tr>\n",
       "    <tr>\n",
       "      <th>3</th>\n",
       "      <td>http://1337x.to/torrent/1124395/Fast-and-Furio...</td>\n",
       "      <td>0</td>\n",
       "      <td>83</td>\n",
       "      <td>8</td>\n",
       "      <td>68</td>\n",
       "      <td>7</td>\n",
       "      <td>to</td>\n",
       "      <td>2</td>\n",
       "      <td>11</td>\n",
       "      <td>0</td>\n",
       "      <td>0</td>\n",
       "      <td>0</td>\n",
       "      <td>1</td>\n",
       "      <td>0</td>\n",
       "      <td>1</td>\n",
       "      <td>0</td>\n",
       "      <td>0</td>\n",
       "      <td>18</td>\n",
       "      <td>46</td>\n",
       "      <td>4</td>\n",
       "    </tr>\n",
       "    <tr>\n",
       "      <th>4</th>\n",
       "      <td>http://1337x.to/torrent/1145504/Avengers-Age-o...</td>\n",
       "      <td>0</td>\n",
       "      <td>83</td>\n",
       "      <td>8</td>\n",
       "      <td>68</td>\n",
       "      <td>7</td>\n",
       "      <td>to</td>\n",
       "      <td>2</td>\n",
       "      <td>9</td>\n",
       "      <td>0</td>\n",
       "      <td>0</td>\n",
       "      <td>0</td>\n",
       "      <td>1</td>\n",
       "      <td>0</td>\n",
       "      <td>1</td>\n",
       "      <td>0</td>\n",
       "      <td>0</td>\n",
       "      <td>18</td>\n",
       "      <td>48</td>\n",
       "      <td>4</td>\n",
       "    </tr>\n",
       "  </tbody>\n",
       "</table>\n",
       "</div>"
      ],
      "text/plain": [
       "                                                 url  label  urlSize  \\\n",
       "0  http://1337x.to/torrent/1048648/American-Snipe...      0       83   \n",
       "1  http://1337x.to/torrent/1110018/Blackhat-2015-...      0       83   \n",
       "2  http://1337x.to/torrent/1122940/Blackhat-2015-...      0       83   \n",
       "3  http://1337x.to/torrent/1124395/Fast-and-Furio...      0       83   \n",
       "4  http://1337x.to/torrent/1145504/Avengers-Age-o...      0       83   \n",
       "\n",
       "   hostNameSize  pathSize  firstDirSize tld  tldSize  Num-  Num@  Num?  Num%  \\\n",
       "0             8        68             7  to        2     8     0     0     0   \n",
       "1             8        68             7  to        2     9     0     0     0   \n",
       "2             8        68             7  to        2     9     0     0     0   \n",
       "3             8        68             7  to        2    11     0     0     0   \n",
       "4             8        68             7  to        2     9     0     0     0   \n",
       "\n",
       "   Num.  Num=  NumHTTP  NumHTTPS  NumWWW  NumDigits  NumLetters  NumDir  \n",
       "0     1     0        1         0       0         18          49       4  \n",
       "1     1     0        1         0       0         23          43       4  \n",
       "2     1     0        1         0       0         22          44       4  \n",
       "3     1     0        1         0       0         18          46       4  \n",
       "4     1     0        1         0       0         18          48       4  "
      ]
     },
     "execution_count": 20,
     "metadata": {},
     "output_type": "execute_result"
    }
   ],
   "source": [
    "def dirTotal(url):\n",
    "    urldir = urlparse(url).path\n",
    "    return urldir.count('/')\n",
    "data['NumDir'] = data['url'].apply(lambda i: dirTotal(i))\n",
    "data.head()"
   ]
  },
  {
   "cell_type": "code",
   "execution_count": 21,
   "metadata": {
    "colab": {
     "base_uri": "https://localhost:8080/"
    },
    "id": "9xpskZ9V9rng",
    "outputId": "72114db1-73bb-401a-d5e2-cdec3382a1fa"
   },
   "outputs": [],
   "source": [
    "def ip_exits(url):\n",
    "    match = re.search(\n",
    "        '(([01]?\\\\d\\\\d?|2[0-4]\\\\d|25[0-5])\\\\.([01]?\\\\d\\\\d?|2[0-4]\\\\d|25[0-5])\\\\.([01]?\\\\d\\\\d?|2[0-4]\\\\d|25[0-5])\\\\.'\n",
    "        '([01]?\\\\d\\\\d?|2[0-4]\\\\d|25[0-5])\\\\/)|'  # IPv4\n",
    "        '((0x[0-9a-fA-F]{1,2})\\\\.(0x[0-9a-fA-F]{1,2})\\\\.(0x[0-9a-fA-F]{1,2})\\\\.(0x[0-9a-fA-F]{1,2})\\\\/)' # IPv4 in hexadecimal\n",
    "        '(?:[a-fA-F0-9]{1,4}:){7}[a-fA-F0-9]{1,4}', url)  # Ipv6\n",
    "    if match:\n",
    "        return -1\n",
    "    else:\n",
    "        return 1\n",
    "data['ipFlag'] = data['url'].apply(lambda i: ip_exits(i))"
   ]
  },
  {
   "cell_type": "code",
   "execution_count": 22,
   "metadata": {
    "colab": {
     "base_uri": "https://localhost:8080/"
    },
    "id": "LzE2crqA9rnh",
    "outputId": "dde7fc8a-5d59-48d6-d41a-b075a9cd9653"
   },
   "outputs": [],
   "source": [
    "def url_shortening_exists(url):\n",
    "    match = re.search('bit\\.ly|goo\\.gl|shorte\\.st|go2l\\.ink|x\\.co|ow\\.ly|t\\.co|tinyurl|tr\\.im|is\\.gd|cli\\.gs|'\n",
    "                      'yfrog\\.com|migre\\.me|ff\\.im|tiny\\.cc|url4\\.eu|twit\\.ac|su\\.pr|twurl\\.nl|snipurl\\.com|'\n",
    "                      'short\\.to|BudURL\\.com|ping\\.fm|post\\.ly|Just\\.as|bkite\\.com|snipr\\.com|fic\\.kr|loopt\\.us|'\n",
    "                      'doiop\\.com|short\\.ie|kl\\.am|wp\\.me|rubyurl\\.com|om\\.ly|to\\.ly|bit\\.do|t\\.co|lnkd\\.in|'\n",
    "                      'db\\.tt|qr\\.ae|adf\\.ly|goo\\.gl|bitly\\.com|cur\\.lv|tinyurl\\.com|ow\\.ly|bit\\.ly|ity\\.im|'\n",
    "                      'q\\.gs|is\\.gd|po\\.st|bc\\.vc|twitthis\\.com|u\\.to|j\\.mp|buzurl\\.com|cutt\\.us|u\\.bb|yourls\\.org|'\n",
    "                      'x\\.co|prettylinkpro\\.com|scrnch\\.me|filoops\\.info|vzturl\\.com|qr\\.net|1url\\.com|tweez\\.me|v\\.gd|'\n",
    "                      'tr\\.im|link\\.zip\\.net',\n",
    "                      url)\n",
    "    if match:\n",
    "        return -1\n",
    "    else:\n",
    "        return 1\n",
    "data['shortFlag'] = data['url'].apply(lambda i: url_shortening_exists(i))"
   ]
  },
  {
   "cell_type": "code",
   "execution_count": 23,
   "metadata": {
    "colab": {
     "base_uri": "https://localhost:8080/",
     "height": 377
    },
    "id": "wgeG8Uht9rnh",
    "outputId": "26036d2e-aa11-436a-ba1d-d65541bd7589"
   },
   "outputs": [
    {
     "data": {
      "text/html": [
       "<div>\n",
       "<style scoped>\n",
       "    .dataframe tbody tr th:only-of-type {\n",
       "        vertical-align: middle;\n",
       "    }\n",
       "\n",
       "    .dataframe tbody tr th {\n",
       "        vertical-align: top;\n",
       "    }\n",
       "\n",
       "    .dataframe thead th {\n",
       "        text-align: right;\n",
       "    }\n",
       "</style>\n",
       "<table border=\"1\" class=\"dataframe\">\n",
       "  <thead>\n",
       "    <tr style=\"text-align: right;\">\n",
       "      <th></th>\n",
       "      <th>url</th>\n",
       "      <th>label</th>\n",
       "      <th>urlSize</th>\n",
       "      <th>hostNameSize</th>\n",
       "      <th>pathSize</th>\n",
       "      <th>firstDirSize</th>\n",
       "      <th>tld</th>\n",
       "      <th>tldSize</th>\n",
       "      <th>Num-</th>\n",
       "      <th>Num@</th>\n",
       "      <th>...</th>\n",
       "      <th>Num.</th>\n",
       "      <th>Num=</th>\n",
       "      <th>NumHTTP</th>\n",
       "      <th>NumHTTPS</th>\n",
       "      <th>NumWWW</th>\n",
       "      <th>NumDigits</th>\n",
       "      <th>NumLetters</th>\n",
       "      <th>NumDir</th>\n",
       "      <th>ipFlag</th>\n",
       "      <th>shortFlag</th>\n",
       "    </tr>\n",
       "  </thead>\n",
       "  <tbody>\n",
       "    <tr>\n",
       "      <th>0</th>\n",
       "      <td>http://1337x.to/torrent/1048648/American-Snipe...</td>\n",
       "      <td>0</td>\n",
       "      <td>83</td>\n",
       "      <td>8</td>\n",
       "      <td>68</td>\n",
       "      <td>7</td>\n",
       "      <td>to</td>\n",
       "      <td>2</td>\n",
       "      <td>8</td>\n",
       "      <td>0</td>\n",
       "      <td>...</td>\n",
       "      <td>1</td>\n",
       "      <td>0</td>\n",
       "      <td>1</td>\n",
       "      <td>0</td>\n",
       "      <td>0</td>\n",
       "      <td>18</td>\n",
       "      <td>49</td>\n",
       "      <td>4</td>\n",
       "      <td>1</td>\n",
       "      <td>1</td>\n",
       "    </tr>\n",
       "    <tr>\n",
       "      <th>1</th>\n",
       "      <td>http://1337x.to/torrent/1110018/Blackhat-2015-...</td>\n",
       "      <td>0</td>\n",
       "      <td>83</td>\n",
       "      <td>8</td>\n",
       "      <td>68</td>\n",
       "      <td>7</td>\n",
       "      <td>to</td>\n",
       "      <td>2</td>\n",
       "      <td>9</td>\n",
       "      <td>0</td>\n",
       "      <td>...</td>\n",
       "      <td>1</td>\n",
       "      <td>0</td>\n",
       "      <td>1</td>\n",
       "      <td>0</td>\n",
       "      <td>0</td>\n",
       "      <td>23</td>\n",
       "      <td>43</td>\n",
       "      <td>4</td>\n",
       "      <td>1</td>\n",
       "      <td>1</td>\n",
       "    </tr>\n",
       "    <tr>\n",
       "      <th>2</th>\n",
       "      <td>http://1337x.to/torrent/1122940/Blackhat-2015-...</td>\n",
       "      <td>0</td>\n",
       "      <td>83</td>\n",
       "      <td>8</td>\n",
       "      <td>68</td>\n",
       "      <td>7</td>\n",
       "      <td>to</td>\n",
       "      <td>2</td>\n",
       "      <td>9</td>\n",
       "      <td>0</td>\n",
       "      <td>...</td>\n",
       "      <td>1</td>\n",
       "      <td>0</td>\n",
       "      <td>1</td>\n",
       "      <td>0</td>\n",
       "      <td>0</td>\n",
       "      <td>22</td>\n",
       "      <td>44</td>\n",
       "      <td>4</td>\n",
       "      <td>1</td>\n",
       "      <td>1</td>\n",
       "    </tr>\n",
       "    <tr>\n",
       "      <th>3</th>\n",
       "      <td>http://1337x.to/torrent/1124395/Fast-and-Furio...</td>\n",
       "      <td>0</td>\n",
       "      <td>83</td>\n",
       "      <td>8</td>\n",
       "      <td>68</td>\n",
       "      <td>7</td>\n",
       "      <td>to</td>\n",
       "      <td>2</td>\n",
       "      <td>11</td>\n",
       "      <td>0</td>\n",
       "      <td>...</td>\n",
       "      <td>1</td>\n",
       "      <td>0</td>\n",
       "      <td>1</td>\n",
       "      <td>0</td>\n",
       "      <td>0</td>\n",
       "      <td>18</td>\n",
       "      <td>46</td>\n",
       "      <td>4</td>\n",
       "      <td>1</td>\n",
       "      <td>1</td>\n",
       "    </tr>\n",
       "    <tr>\n",
       "      <th>4</th>\n",
       "      <td>http://1337x.to/torrent/1145504/Avengers-Age-o...</td>\n",
       "      <td>0</td>\n",
       "      <td>83</td>\n",
       "      <td>8</td>\n",
       "      <td>68</td>\n",
       "      <td>7</td>\n",
       "      <td>to</td>\n",
       "      <td>2</td>\n",
       "      <td>9</td>\n",
       "      <td>0</td>\n",
       "      <td>...</td>\n",
       "      <td>1</td>\n",
       "      <td>0</td>\n",
       "      <td>1</td>\n",
       "      <td>0</td>\n",
       "      <td>0</td>\n",
       "      <td>18</td>\n",
       "      <td>48</td>\n",
       "      <td>4</td>\n",
       "      <td>1</td>\n",
       "      <td>1</td>\n",
       "    </tr>\n",
       "  </tbody>\n",
       "</table>\n",
       "<p>5 rows × 22 columns</p>\n",
       "</div>"
      ],
      "text/plain": [
       "                                                 url  label  urlSize  \\\n",
       "0  http://1337x.to/torrent/1048648/American-Snipe...      0       83   \n",
       "1  http://1337x.to/torrent/1110018/Blackhat-2015-...      0       83   \n",
       "2  http://1337x.to/torrent/1122940/Blackhat-2015-...      0       83   \n",
       "3  http://1337x.to/torrent/1124395/Fast-and-Furio...      0       83   \n",
       "4  http://1337x.to/torrent/1145504/Avengers-Age-o...      0       83   \n",
       "\n",
       "   hostNameSize  pathSize  firstDirSize tld  tldSize  Num-  Num@  ...  Num.  \\\n",
       "0             8        68             7  to        2     8     0  ...     1   \n",
       "1             8        68             7  to        2     9     0  ...     1   \n",
       "2             8        68             7  to        2     9     0  ...     1   \n",
       "3             8        68             7  to        2    11     0  ...     1   \n",
       "4             8        68             7  to        2     9     0  ...     1   \n",
       "\n",
       "   Num=  NumHTTP  NumHTTPS  NumWWW  NumDigits  NumLetters  NumDir  ipFlag  \\\n",
       "0     0        1         0       0         18          49       4       1   \n",
       "1     0        1         0       0         23          43       4       1   \n",
       "2     0        1         0       0         22          44       4       1   \n",
       "3     0        1         0       0         18          46       4       1   \n",
       "4     0        1         0       0         18          48       4       1   \n",
       "\n",
       "   shortFlag  \n",
       "0          1  \n",
       "1          1  \n",
       "2          1  \n",
       "3          1  \n",
       "4          1  \n",
       "\n",
       "[5 rows x 22 columns]"
      ]
     },
     "execution_count": 23,
     "metadata": {},
     "output_type": "execute_result"
    }
   ],
   "source": [
    "data.head()"
   ]
  },
  {
   "cell_type": "markdown",
   "metadata": {
    "id": "lG05PmLN9rnh"
   },
   "source": [
    "# Exploratory Data Analysis"
   ]
  },
  {
   "cell_type": "code",
   "execution_count": 24,
   "metadata": {
    "colab": {
     "base_uri": "https://localhost:8080/",
     "height": 1000
    },
    "id": "KhRNfRjy9rnh",
    "outputId": "6f83e03f-0c7f-4ade-eb3e-2bd2a07a2437"
   },
   "outputs": [
    {
     "data": {
      "text/plain": [
       "<Axes: >"
      ]
     },
     "execution_count": 24,
     "metadata": {},
     "output_type": "execute_result"
    },
    {
     "data": {
      "image/png": "[encoded data removed]",
      "text/plain": [
       "<Figure size 1000x800 with 2 Axes>"
      ]
     },
     "metadata": {},
     "output_type": "display_data"
    }
   ],
   "source": [
    "corrmat = data.drop(['tld','url'], axis=1).corr()\n",
    "f, ax = plt.subplots(figsize=(10,8))\n",
    "sns.heatmap(corrmat, square=True, annot = True, annot_kws={'size':5})"
   ]
  },
  {
   "cell_type": "code",
   "execution_count": 25,
   "metadata": {
    "colab": {
     "base_uri": "https://localhost:8080/",
     "height": 699
    },
    "id": "ZVIcbvwD9rnh",
    "outputId": "e94d8c10-2809-4a19-a138-09a53e875714"
   },
   "outputs": [
    {
     "data": {
      "text/plain": [
       "Text(0, 0.5, 'Total URLs')"
      ]
     },
     "execution_count": 25,
     "metadata": {},
     "output_type": "execute_result"
    },
    {
     "data": {
      "image/png": "[encoded data removed]",
      "text/plain": [
       "<Figure size 800x500 with 1 Axes>"
      ]
     },
     "metadata": {},
     "output_type": "display_data"
    }
   ],
   "source": [
    "#Class Balance\n",
    "plt.figure(figsize=(8,5))\n",
    "sns.countplot(x='label',data=data)\n",
    "plt.title(\"Classes Of URLs\",fontsize=20)\n",
    "plt.xlabel(\"Classes URLs\",fontsize=18)\n",
    "plt.ylabel(\"Total URLs\",fontsize=18)"
   ]
  },
  {
   "cell_type": "code",
   "execution_count": 26,
   "metadata": {
    "colab": {
     "base_uri": "https://localhost:8080/",
     "height": 577
    },
    "id": "_VS-Lw609rni",
    "outputId": "6865f0a6-4fff-4bcc-acbe-f12d2d0ab1a8"
   },
   "outputs": [
    {
     "data": {
      "text/plain": [
       "(0.0, 1000.0)"
      ]
     },
     "execution_count": 26,
     "metadata": {},
     "output_type": "execute_result"
    },
    {
     "data": {
      "image/png": "[encoded data removed]",
      "text/plain": [
       "<Figure size 1000x500 with 1 Axes>"
      ]
     },
     "metadata": {},
     "output_type": "display_data"
    }
   ],
   "source": [
    "plt.figure(figsize=(10,5))\n",
    "plt.hist(data['urlSize'],bins=50,color='orange')\n",
    "plt.title(\"URL Size\",fontsize=20)\n",
    "plt.xlabel(\"urlSize\",fontsize=18)\n",
    "plt.ylabel(\"Number Of Urls\",fontsize=18)\n",
    "plt.ylim(0,1000)"
   ]
  },
  {
   "cell_type": "code",
   "execution_count": 27,
   "metadata": {
    "colab": {
     "base_uri": "https://localhost:8080/",
     "height": 577
    },
    "id": "z1rteUEc9rni",
    "outputId": "f264a870-5bcc-47ae-a7f1-7766a055d8e0"
   },
   "outputs": [
    {
     "data": {
      "text/plain": [
       "(0.0, 1000.0)"
      ]
     },
     "execution_count": 27,
     "metadata": {},
     "output_type": "execute_result"
    },
    {
     "data": {
      "image/png": "[encoded data removed]",
      "text/plain": [
       "<Figure size 1000x500 with 1 Axes>"
      ]
     },
     "metadata": {},
     "output_type": "display_data"
    }
   ],
   "source": [
    "plt.figure(figsize=(10,5))\n",
    "plt.hist(data['hostNameSize'],bins=50,color='blue')\n",
    "plt.title(\"Host Name Size\",fontsize=20)\n",
    "plt.xlabel(\"Size Of Host Name\",fontsize=18)\n",
    "plt.ylabel(\"Total URLs\",fontsize=18)\n",
    "plt.ylim(0,1000)"
   ]
  },
  {
   "cell_type": "code",
   "execution_count": 28,
   "metadata": {
    "colab": {
     "base_uri": "https://localhost:8080/",
     "height": 577
    },
    "id": "F3P7IoUI9rni",
    "outputId": "64a9dfcf-4911-4cc4-83fa-5b6f8cf21f77"
   },
   "outputs": [
    {
     "data": {
      "text/plain": [
       "Text(0, 0.5, 'Total URLs')"
      ]
     },
     "execution_count": 28,
     "metadata": {},
     "output_type": "execute_result"
    },
    {
     "data": {
      "image/png": "[encoded data removed]",
      "text/plain": [
       "<Figure size 1000x500 with 1 Axes>"
      ]
     },
     "metadata": {},
     "output_type": "display_data"
    }
   ],
   "source": [
    "plt.figure(figsize=(10,5))\n",
    "sns.countplot(x='firstDirSize',data=data)\n",
    "plt.title(\"Number Of First Directories In Url\",fontsize=20)\n",
    "plt.xlabel(\"First Directory Size\",fontsize=18)\n",
    "plt.ylabel(\"Total URLs\",fontsize=18)"
   ]
  },
  {
   "cell_type": "code",
   "execution_count": 29,
   "metadata": {
    "colab": {
     "base_uri": "https://localhost:8080/",
     "height": 577
    },
    "id": "fyJm0ELd9rnj",
    "outputId": "41907592-e36f-45f8-9881-1c4c13d4fec2"
   },
   "outputs": [
    {
     "data": {
      "text/plain": [
       "(0.0, 1000.0)"
      ]
     },
     "execution_count": 29,
     "metadata": {},
     "output_type": "execute_result"
    },
    {
     "data": {
      "image/png": "[encoded data removed]",
      "text/plain": [
       "<Figure size 1000x500 with 1 Axes>"
      ]
     },
     "metadata": {},
     "output_type": "display_data"
    }
   ],
   "source": [
    "plt.figure(figsize=(10,5))\n",
    "plt.hist(data['tldSize'],bins=50,color='Brown')\n",
    "plt.title(\"TLD Size\",fontsize=20)\n",
    "plt.xlabel(\"Size Of TLD\",fontsize=18)\n",
    "plt.ylabel(\"Total URLs\",fontsize=18)\n",
    "plt.ylim(0,1000)"
   ]
  },
  {
   "cell_type": "code",
   "execution_count": 30,
   "metadata": {
    "colab": {
     "base_uri": "https://localhost:8080/",
     "height": 577
    },
    "id": "CQk22p-H9rnj",
    "outputId": "2f122b73-683e-45cb-9277-750b22e1f099"
   },
   "outputs": [
    {
     "data": {
      "text/plain": [
       "Text(0, 0.5, 'Total URLs')"
      ]
     },
     "execution_count": 30,
     "metadata": {},
     "output_type": "execute_result"
    },
    {
     "data": {
      "image/png": "[encoded data removed]",
      "text/plain": [
       "<Figure size 600x500 with 1 Axes>"
      ]
     },
     "metadata": {},
     "output_type": "display_data"
    }
   ],
   "source": [
    "plt.figure(figsize=(6,5))\n",
    "sns.countplot(x=data['ipFlag'])\n",
    "plt.title(\"Use Of IP In Url\",fontsize=20)\n",
    "plt.xlabel(\"Use Of IP\",fontsize=18)\n",
    "plt.ylabel(\"Total URLs\",fontsize=18)"
   ]
  },
  {
   "cell_type": "code",
   "execution_count": 31,
   "metadata": {
    "colab": {
     "base_uri": "https://localhost:8080/",
     "height": 577
    },
    "id": "Fc0cL0jP9rnj",
    "outputId": "c4772fd5-8b2b-46eb-e4f9-6f360e0630c0"
   },
   "outputs": [
    {
     "data": {
      "text/plain": [
       "Text(0, 0.5, 'Total URLs')"
      ]
     },
     "execution_count": 31,
     "metadata": {},
     "output_type": "execute_result"
    },
    {
     "data": {
      "image/png": "[encoded data removed]",
      "text/plain": [
       "<Figure size 1000x500 with 1 Axes>"
      ]
     },
     "metadata": {},
     "output_type": "display_data"
    }
   ],
   "source": [
    "plt.figure(figsize=(10,5))\n",
    "sns.countplot(x=data['NumHTTP'],hue='label',data=data)\n",
    "plt.title(\"Use Of http In Url\",fontsize=20)\n",
    "plt.xlabel(\"Total IP\",fontsize=18)\n",
    "plt.ylim((0,1000))\n",
    "plt.ylabel(\"Total URLs\",fontsize=18)"
   ]
  },
  {
   "cell_type": "code",
   "execution_count": 32,
   "metadata": {
    "colab": {
     "base_uri": "https://localhost:8080/",
     "height": 577
    },
    "id": "FZu4b_W29rnj",
    "outputId": "c5548736-9599-4703-9f2f-66d51144e036"
   },
   "outputs": [
    {
     "data": {
      "text/plain": [
       "Text(0, 0.5, 'Total URLs')"
      ]
     },
     "execution_count": 32,
     "metadata": {},
     "output_type": "execute_result"
    },
    {
     "data": {
      "image/png": "[encoded data removed]",
      "text/plain": [
       "<Figure size 1000x500 with 1 Axes>"
      ]
     },
     "metadata": {},
     "output_type": "display_data"
    }
   ],
   "source": [
    "plt.figure(figsize=(10,5))\n",
    "sns.countplot(x=data['NumHTTPS'],hue='label',data=data)\n",
    "plt.title(\"Use Of HTTPS In Url\",fontsize=20)\n",
    "plt.xlabel(\"Count Of HTTPS\",fontsize=18)\n",
    "plt.ylabel(\"Total URLs\",fontsize=18)"
   ]
  },
  {
   "cell_type": "code",
   "execution_count": 33,
   "metadata": {
    "colab": {
     "base_uri": "https://localhost:8080/",
     "height": 577
    },
    "id": "feyudhuC9rnj",
    "outputId": "e76e12c7-f6f6-453f-f156-20a81c170e51"
   },
   "outputs": [
    {
     "data": {
      "text/plain": [
       "Text(0, 0.5, 'Total URLs')"
      ]
     },
     "execution_count": 33,
     "metadata": {},
     "output_type": "execute_result"
    },
    {
     "data": {
      "image/png": "[encoded data removed]",
      "text/plain": [
       "<Figure size 1000x500 with 1 Axes>"
      ]
     },
     "metadata": {},
     "output_type": "display_data"
    }
   ],
   "source": [
    "plt.figure(figsize=(10,5))\n",
    "sns.countplot(x=data['NumWWW'],hue='label',data=data)\n",
    "plt.title(\"Use Of WWW In Url\",fontsize=20)\n",
    "plt.xlabel(\"Count Of WWW\",fontsize=18)\n",
    "plt.ylabel(\"Total URLs\",fontsize=18)"
   ]
  },
  {
   "cell_type": "markdown",
   "metadata": {},
   "source": [
    "#  Label Encoding"
   ]
  },
  {
   "cell_type": "code",
   "execution_count": 34,
   "metadata": {},
   "outputs": [
    {
     "data": {
      "text/html": [
       "<style>#sk-container-id-1 {color: black;background-color: white;}#sk-container-id-1 pre{padding: 0;}#sk-container-id-1 div.sk-toggleable {background-color: white;}#sk-container-id-1 label.sk-toggleable__label {cursor: pointer;display: block;width: 100%;margin-bottom: 0;padding: 0.3em;box-sizing: border-box;text-align: center;}#sk-container-id-1 label.sk-toggleable__label-arrow:before {content: \"▸\";float: left;margin-right: 0.25em;color: #696969;}#sk-container-id-1 label.sk-toggleable__label-arrow:hover:before {color: black;}#sk-container-id-1 div.sk-estimator:hover label.sk-toggleable__label-arrow:before {color: black;}#sk-container-id-1 div.sk-toggleable__content {max-height: 0;max-width: 0;overflow: hidden;text-align: left;background-color: #f0f8ff;}#sk-container-id-1 div.sk-toggleable__content pre {margin: 0.2em;color: black;border-radius: 0.25em;background-color: #f0f8ff;}#sk-container-id-1 input.sk-toggleable__control:checked~div.sk-toggleable__content {max-height: 200px;max-width: 100%;overflow: auto;}#sk-container-id-1 input.sk-toggleable__control:checked~label.sk-toggleable__label-arrow:before {content: \"▾\";}#sk-container-id-1 div.sk-estimator input.sk-toggleable__control:checked~label.sk-toggleable__label {background-color: #d4ebff;}#sk-container-id-1 div.sk-label input.sk-toggleable__control:checked~label.sk-toggleable__label {background-color: #d4ebff;}#sk-container-id-1 input.sk-hidden--visually {border: 0;clip: rect(1px 1px 1px 1px);clip: rect(1px, 1px, 1px, 1px);height: 1px;margin: -1px;overflow: hidden;padding: 0;position: absolute;width: 1px;}#sk-container-id-1 div.sk-estimator {font-family: monospace;background-color: #f0f8ff;border: 1px dotted black;border-radius: 0.25em;box-sizing: border-box;margin-bottom: 0.5em;}#sk-container-id-1 div.sk-estimator:hover {background-color: #d4ebff;}#sk-container-id-1 div.sk-parallel-item::after {content: \"\";width: 100%;border-bottom: 1px solid gray;flex-grow: 1;}#sk-container-id-1 div.sk-label:hover label.sk-toggleable__label {background-color: #d4ebff;}#sk-container-id-1 div.sk-serial::before {content: \"\";position: absolute;border-left: 1px solid gray;box-sizing: border-box;top: 0;bottom: 0;left: 50%;z-index: 0;}#sk-container-id-1 div.sk-serial {display: flex;flex-direction: column;align-items: center;background-color: white;padding-right: 0.2em;padding-left: 0.2em;position: relative;}#sk-container-id-1 div.sk-item {position: relative;z-index: 1;}#sk-container-id-1 div.sk-parallel {display: flex;align-items: stretch;justify-content: center;background-color: white;position: relative;}#sk-container-id-1 div.sk-item::before, #sk-container-id-1 div.sk-parallel-item::before {content: \"\";position: absolute;border-left: 1px solid gray;box-sizing: border-box;top: 0;bottom: 0;left: 50%;z-index: -1;}#sk-container-id-1 div.sk-parallel-item {display: flex;flex-direction: column;z-index: 1;position: relative;background-color: white;}#sk-container-id-1 div.sk-parallel-item:first-child::after {align-self: flex-end;width: 50%;}#sk-container-id-1 div.sk-parallel-item:last-child::after {align-self: flex-start;width: 50%;}#sk-container-id-1 div.sk-parallel-item:only-child::after {width: 0;}#sk-container-id-1 div.sk-dashed-wrapped {border: 1px dashed gray;margin: 0 0.4em 0.5em 0.4em;box-sizing: border-box;padding-bottom: 0.4em;background-color: white;}#sk-container-id-1 div.sk-label label {font-family: monospace;font-weight: bold;display: inline-block;line-height: 1.2em;}#sk-container-id-1 div.sk-label-container {text-align: center;}#sk-container-id-1 div.sk-container {/* jupyter's `normalize.less` sets `[hidden] { display: none; }` but bootstrap.min.css set `[hidden] { display: none !important; }` so we also need the `!important` here to be able to override the default hidden behavior on the sphinx rendered scikit-learn.org. See: https://github.com/scikit-learn/scikit-learn/issues/21755 */display: inline-block !important;position: relative;}#sk-container-id-1 div.sk-text-repr-fallback {display: none;}</style><div id=\"sk-container-id-1\" class=\"sk-top-container\"><div class=\"sk-text-repr-fallback\"><pre>LabelEncoder()</pre><b>In a Jupyter environment, please rerun this cell to show the HTML representation or trust the notebook. <br />On GitHub, the HTML representation is unable to render, please try loading this page with nbviewer.org.</b></div><div class=\"sk-container\" hidden><div class=\"sk-item\"><div class=\"sk-estimator sk-toggleable\"><input class=\"sk-toggleable__control sk-hidden--visually\" id=\"sk-estimator-id-1\" type=\"checkbox\" checked><label for=\"sk-estimator-id-1\" class=\"sk-toggleable__label sk-toggleable__label-arrow\">LabelEncoder</label><div class=\"sk-toggleable__content\"><pre>LabelEncoder()</pre></div></div></div></div></div>"
      ],
      "text/plain": [
       "LabelEncoder()"
      ]
     },
     "execution_count": 34,
     "metadata": {},
     "output_type": "execute_result"
    }
   ],
   "source": [
    "encoder = LabelEncoder()\n",
    "encoder"
   ]
  },
  {
   "cell_type": "code",
   "execution_count": 35,
   "metadata": {},
   "outputs": [
    {
     "name": "stdout",
     "output_type": "stream",
     "text": [
      "<class 'pandas.core.frame.DataFrame'>\n",
      "Index: 165366 entries, 0 to 9964\n",
      "Data columns (total 20 columns):\n",
      " #   Column        Non-Null Count   Dtype\n",
      "---  ------        --------------   -----\n",
      " 0   label         165366 non-null  int64\n",
      " 1   urlSize       165366 non-null  int64\n",
      " 2   hostNameSize  165366 non-null  int64\n",
      " 3   pathSize      165366 non-null  int64\n",
      " 4   firstDirSize  165366 non-null  int64\n",
      " 5   tldSize       165366 non-null  int64\n",
      " 6   Num-          165366 non-null  int64\n",
      " 7   Num@          165366 non-null  int64\n",
      " 8   Num?          165366 non-null  int64\n",
      " 9   Num%          165366 non-null  int64\n",
      " 10  Num.          165366 non-null  int64\n",
      " 11  Num=          165366 non-null  int64\n",
      " 12  NumHTTP       165366 non-null  int64\n",
      " 13  NumHTTPS      165366 non-null  int64\n",
      " 14  NumWWW        165366 non-null  int64\n",
      " 15  NumDigits     165366 non-null  int64\n",
      " 16  NumLetters    165366 non-null  int64\n",
      " 17  NumDir        165366 non-null  int64\n",
      " 18  ipFlag        165366 non-null  int64\n",
      " 19  shortFlag     165366 non-null  int64\n",
      "dtypes: int64(20)\n",
      "memory usage: 26.5 MB\n"
     ]
    }
   ],
   "source": [
    "data['url'] = encoder.fit_transform(data['url'])\n",
    "data = data.drop(['tld','url'], axis=1)\n",
    "data.info()"
   ]
  },
  {
   "cell_type": "markdown",
   "metadata": {},
   "source": [
    "#  Data Preparation"
   ]
  },
  {
   "cell_type": "code",
   "execution_count": 36,
   "metadata": {},
   "outputs": [],
   "source": [
    "X= data.drop('label', axis=1)\n",
    "Y= data['label']"
   ]
  },
  {
   "cell_type": "code",
   "execution_count": 37,
   "metadata": {},
   "outputs": [],
   "source": [
    "trainX, testX, trainY, testY = train_test_split(X, Y, test_size=0.1)"
   ]
  },
  {
   "cell_type": "code",
   "execution_count": 38,
   "metadata": {},
   "outputs": [
    {
     "data": {
      "text/plain": [
       "((148829, 19), (16537, 19), (148829,), (16537,))"
      ]
     },
     "execution_count": 38,
     "metadata": {},
     "output_type": "execute_result"
    }
   ],
   "source": [
    "trainX.shape, testX.shape, trainY.shape, testY.shape"
   ]
  },
  {
   "cell_type": "code",
   "execution_count": 39,
   "metadata": {},
   "outputs": [],
   "source": [
    "result = []"
   ]
  },
  {
   "cell_type": "markdown",
   "metadata": {},
   "source": [
    "#  SVM"
   ]
  },
  {
   "cell_type": "code",
   "execution_count": 40,
   "metadata": {},
   "outputs": [],
   "source": [
    "svc = SVC(kernel='linear', C=5, gamma =8, max_iter = 2)"
   ]
  },
  {
   "cell_type": "code",
   "execution_count": 41,
   "metadata": {
    "scrolled": true
   },
   "outputs": [],
   "source": [
    "svc.fit(trainX, trainY)\n",
    "ypred = svc.predict(testX)"
   ]
  },
  {
   "cell_type": "code",
   "execution_count": 42,
   "metadata": {},
   "outputs": [
    {
     "name": "stdout",
     "output_type": "stream",
     "text": [
      "8.060712342020922 8.060712342020922\n"
     ]
    }
   ],
   "source": [
    "accuracy = accuracy_score(testY, ypred.round())  *100\n",
    "f1 = f1_score(testY, ypred.round(), average='micro') *100\n",
    "print(accuracy, f1)"
   ]
  },
  {
   "cell_type": "code",
   "execution_count": 43,
   "metadata": {},
   "outputs": [
    {
     "data": {
      "text/plain": [
       "[['SVM', 8.060712342020922, 8.060712342020922]]"
      ]
     },
     "execution_count": 43,
     "metadata": {},
     "output_type": "execute_result"
    }
   ],
   "source": [
    "result.append(['SVM', accuracy, f1])\n",
    "result"
   ]
  },
  {
   "cell_type": "markdown",
   "metadata": {},
   "source": [
    "#  Random Forest Trees"
   ]
  },
  {
   "cell_type": "code",
   "execution_count": 44,
   "metadata": {},
   "outputs": [],
   "source": [
    "rft = RandomForestClassifier()"
   ]
  },
  {
   "cell_type": "code",
   "execution_count": 45,
   "metadata": {
    "scrolled": true
   },
   "outputs": [],
   "source": [
    "rft.fit(trainX, trainY)\n",
    "ypred = rft.predict(testX)"
   ]
  },
  {
   "cell_type": "code",
   "execution_count": 46,
   "metadata": {},
   "outputs": [
    {
     "name": "stdout",
     "output_type": "stream",
     "text": [
      "98.96595513091854 98.96595513091854\n"
     ]
    }
   ],
   "source": [
    "accuracy = accuracy_score(testY, ypred.round())  *100\n",
    "f1 = f1_score(testY, ypred.round(), average='micro') *100\n",
    "print(accuracy, f1)"
   ]
  },
  {
   "cell_type": "code",
   "execution_count": 47,
   "metadata": {},
   "outputs": [
    {
     "data": {
      "text/plain": [
       "[['SVM', 8.060712342020922, 8.060712342020922],\n",
       " ['Random Forest Trees', 98.96595513091854, 98.96595513091854]]"
      ]
     },
     "execution_count": 47,
     "metadata": {},
     "output_type": "execute_result"
    }
   ],
   "source": [
    "result.append(['Random Forest Trees', accuracy, f1])\n",
    "result"
   ]
  },
  {
   "cell_type": "markdown",
   "metadata": {},
   "source": [
    "#  XGBoost"
   ]
  },
  {
   "cell_type": "code",
   "execution_count": 48,
   "metadata": {},
   "outputs": [],
   "source": [
    "xgb = XGBClassifier()"
   ]
  },
  {
   "cell_type": "code",
   "execution_count": 49,
   "metadata": {
    "scrolled": true
   },
   "outputs": [],
   "source": [
    "xgb.fit(trainX, trainY)\n",
    "ypred = xgb.predict(testX)"
   ]
  },
  {
   "cell_type": "code",
   "execution_count": 50,
   "metadata": {},
   "outputs": [
    {
     "name": "stdout",
     "output_type": "stream",
     "text": [
      "98.76035556630586 98.76035556630585\n"
     ]
    }
   ],
   "source": [
    "accuracy = accuracy_score(testY, ypred.round())  *100\n",
    "f1 = f1_score(testY, ypred.round(), average='micro') *100\n",
    "print(accuracy, f1)"
   ]
  },
  {
   "cell_type": "code",
   "execution_count": 51,
   "metadata": {
    "scrolled": true
   },
   "outputs": [
    {
     "data": {
      "text/plain": [
       "[['SVM', 8.060712342020922, 8.060712342020922],\n",
       " ['Random Forest Trees', 98.96595513091854, 98.96595513091854],\n",
       " ['XGBoost', 98.76035556630586, 98.76035556630585]]"
      ]
     },
     "execution_count": 51,
     "metadata": {},
     "output_type": "execute_result"
    }
   ],
   "source": [
    "result.append(['XGBoost', accuracy, f1])\n",
    "result"
   ]
  },
  {
   "cell_type": "markdown",
   "metadata": {},
   "source": [
    "#  AdaBoost "
   ]
  },
  {
   "cell_type": "code",
   "execution_count": 52,
   "metadata": {},
   "outputs": [],
   "source": [
    "ada = AdaBoostClassifier()"
   ]
  },
  {
   "cell_type": "code",
   "execution_count": 53,
   "metadata": {
    "scrolled": true
   },
   "outputs": [],
   "source": [
    "ada.fit(trainX, trainY)\n",
    "ypred = ada.predict(testX)"
   ]
  },
  {
   "cell_type": "code",
   "execution_count": 54,
   "metadata": {},
   "outputs": [
    {
     "name": "stdout",
     "output_type": "stream",
     "text": [
      "70.59321521436777 70.59321521436777\n"
     ]
    }
   ],
   "source": [
    "accuracy = accuracy_score(testY, ypred.round())  *100\n",
    "f1 = f1_score(testY, ypred.round(), average='micro') *100\n",
    "print(accuracy, f1)"
   ]
  },
  {
   "cell_type": "code",
   "execution_count": 55,
   "metadata": {
    "scrolled": true
   },
   "outputs": [
    {
     "data": {
      "text/plain": [
       "[['SVM', 8.060712342020922, 8.060712342020922],\n",
       " ['Random Forest Trees', 98.96595513091854, 98.96595513091854],\n",
       " ['XGBoost', 98.76035556630586, 98.76035556630585],\n",
       " ['AdaBoost', 70.59321521436777, 70.59321521436777]]"
      ]
     },
     "execution_count": 55,
     "metadata": {},
     "output_type": "execute_result"
    }
   ],
   "source": [
    "result.append(['AdaBoost', accuracy, f1])\n",
    "result"
   ]
  },
  {
   "cell_type": "markdown",
   "metadata": {},
   "source": [
    "#  LightGBM"
   ]
  },
  {
   "cell_type": "code",
   "execution_count": 56,
   "metadata": {},
   "outputs": [],
   "source": [
    "lr = LGBMClassifier(C=100)"
   ]
  },
  {
   "cell_type": "code",
   "execution_count": 57,
   "metadata": {
    "scrolled": true
   },
   "outputs": [
    {
     "name": "stdout",
     "output_type": "stream",
     "text": [
      "[LightGBM] [Warning] Unknown parameter: C\n",
      "[LightGBM] [Warning] Unknown parameter: C\n",
      "[LightGBM] [Info] Auto-choosing row-wise multi-threading, the overhead of testing was 0.014246 seconds.\n",
      "You can set `force_row_wise=true` to remove the overhead.\n",
      "And if memory is not enough, you can set `force_col_wise=true`.\n",
      "[LightGBM] [Info] Total Bins 1432\n",
      "[LightGBM] [Info] Number of data points in the train set: 148829, number of used features: 19\n",
      "[LightGBM] [Info] Start training from score -1.540443\n",
      "[LightGBM] [Info] Start training from score -0.539560\n",
      "[LightGBM] [Info] Start training from score -2.658591\n",
      "[LightGBM] [Info] Start training from score -2.623437\n",
      "[LightGBM] [Info] Start training from score -2.811591\n",
      "[LightGBM] [Warning] Unknown parameter: C\n"
     ]
    }
   ],
   "source": [
    "lr.fit(trainX, trainY)\n",
    "ypred = lr.predict(testX)"
   ]
  },
  {
   "cell_type": "code",
   "execution_count": 58,
   "metadata": {},
   "outputs": [
    {
     "name": "stdout",
     "output_type": "stream",
     "text": [
      "98.57289713974723 98.57289713974723\n"
     ]
    }
   ],
   "source": [
    "accuracy = accuracy_score(testY, ypred.round())  *100\n",
    "f1 = f1_score(testY, ypred.round(), average='micro') *100\n",
    "print(accuracy, f1)"
   ]
  },
  {
   "cell_type": "code",
   "execution_count": 59,
   "metadata": {
    "scrolled": true
   },
   "outputs": [
    {
     "data": {
      "text/plain": [
       "[['SVM', 8.060712342020922, 8.060712342020922],\n",
       " ['Random Forest Trees', 98.96595513091854, 98.96595513091854],\n",
       " ['XGBoost', 98.76035556630586, 98.76035556630585],\n",
       " ['AdaBoost', 70.59321521436777, 70.59321521436777],\n",
       " ['LightGBM', 98.57289713974723, 98.57289713974723]]"
      ]
     },
     "execution_count": 59,
     "metadata": {},
     "output_type": "execute_result"
    }
   ],
   "source": [
    "result.append(['LightGBM', accuracy, f1])\n",
    "result"
   ]
  },
  {
   "cell_type": "markdown",
   "metadata": {},
   "source": [
    "#  Decision Trees"
   ]
  },
  {
   "cell_type": "code",
   "execution_count": 60,
   "metadata": {},
   "outputs": [],
   "source": [
    "dt = DecisionTreeClassifier()"
   ]
  },
  {
   "cell_type": "code",
   "execution_count": 61,
   "metadata": {
    "scrolled": true
   },
   "outputs": [],
   "source": [
    "dt.fit(trainX, trainY)\n",
    "ypred = dt.predict(testX)"
   ]
  },
  {
   "cell_type": "code",
   "execution_count": 62,
   "metadata": {},
   "outputs": [
    {
     "name": "stdout",
     "output_type": "stream",
     "text": [
      "98.43381508133277 98.43381508133277\n"
     ]
    }
   ],
   "source": [
    "accuracy = accuracy_score(testY, ypred.round())  *100\n",
    "f1 = f1_score(testY, ypred.round(), average='micro') *100\n",
    "print(accuracy, f1)"
   ]
  },
  {
   "cell_type": "code",
   "execution_count": 63,
   "metadata": {},
   "outputs": [
    {
     "data": {
      "text/plain": [
       "[['SVM', 8.060712342020922, 8.060712342020922],\n",
       " ['Random Forest Trees', 98.96595513091854, 98.96595513091854],\n",
       " ['XGBoost', 98.76035556630586, 98.76035556630585],\n",
       " ['AdaBoost', 70.59321521436777, 70.59321521436777],\n",
       " ['LightGBM', 98.57289713974723, 98.57289713974723],\n",
       " ['Decision Trees', 98.43381508133277, 98.43381508133277]]"
      ]
     },
     "execution_count": 63,
     "metadata": {},
     "output_type": "execute_result"
    }
   ],
   "source": [
    "result.append(['Decision Trees', accuracy, f1])\n",
    "result"
   ]
  },
  {
   "cell_type": "markdown",
   "metadata": {},
   "source": [
    "#  Extra Trees Classifier"
   ]
  },
  {
   "cell_type": "code",
   "execution_count": 64,
   "metadata": {},
   "outputs": [],
   "source": [
    "et = ExtraTreesClassifier()"
   ]
  },
  {
   "cell_type": "code",
   "execution_count": 65,
   "metadata": {
    "scrolled": true
   },
   "outputs": [],
   "source": [
    "et.fit(trainX, trainY)\n",
    "ypred = et.predict(testX)"
   ]
  },
  {
   "cell_type": "code",
   "execution_count": 66,
   "metadata": {},
   "outputs": [
    {
     "name": "stdout",
     "output_type": "stream",
     "text": [
      "98.89943762472032 98.89943762472032\n"
     ]
    }
   ],
   "source": [
    "accuracy = accuracy_score(testY, ypred.round())  *100\n",
    "f1 = f1_score(testY, ypred.round(), average='micro') *100\n",
    "print(accuracy, f1)"
   ]
  },
  {
   "cell_type": "code",
   "execution_count": 67,
   "metadata": {},
   "outputs": [
    {
     "data": {
      "text/plain": [
       "[['SVM', 8.060712342020922, 8.060712342020922],\n",
       " ['Random Forest Trees', 98.96595513091854, 98.96595513091854],\n",
       " ['XGBoost', 98.76035556630586, 98.76035556630585],\n",
       " ['AdaBoost', 70.59321521436777, 70.59321521436777],\n",
       " ['LightGBM', 98.57289713974723, 98.57289713974723],\n",
       " ['Decision Trees', 98.43381508133277, 98.43381508133277],\n",
       " ['Extra Trees Classifier', 98.89943762472032, 98.89943762472032]]"
      ]
     },
     "execution_count": 67,
     "metadata": {},
     "output_type": "execute_result"
    }
   ],
   "source": [
    "result.append(['Extra Trees Classifier', accuracy, f1])\n",
    "result"
   ]
  },
  {
   "cell_type": "markdown",
   "metadata": {},
   "source": [
    "# Deep Multi Layer Perceptron"
   ]
  },
  {
   "cell_type": "code",
   "execution_count": 68,
   "metadata": {},
   "outputs": [
    {
     "data": {
      "text/html": [
       "<style>#sk-container-id-2 {color: black;background-color: white;}#sk-container-id-2 pre{padding: 0;}#sk-container-id-2 div.sk-toggleable {background-color: white;}#sk-container-id-2 label.sk-toggleable__label {cursor: pointer;display: block;width: 100%;margin-bottom: 0;padding: 0.3em;box-sizing: border-box;text-align: center;}#sk-container-id-2 label.sk-toggleable__label-arrow:before {content: \"▸\";float: left;margin-right: 0.25em;color: #696969;}#sk-container-id-2 label.sk-toggleable__label-arrow:hover:before {color: black;}#sk-container-id-2 div.sk-estimator:hover label.sk-toggleable__label-arrow:before {color: black;}#sk-container-id-2 div.sk-toggleable__content {max-height: 0;max-width: 0;overflow: hidden;text-align: left;background-color: #f0f8ff;}#sk-container-id-2 div.sk-toggleable__content pre {margin: 0.2em;color: black;border-radius: 0.25em;background-color: #f0f8ff;}#sk-container-id-2 input.sk-toggleable__control:checked~div.sk-toggleable__content {max-height: 200px;max-width: 100%;overflow: auto;}#sk-container-id-2 input.sk-toggleable__control:checked~label.sk-toggleable__label-arrow:before {content: \"▾\";}#sk-container-id-2 div.sk-estimator input.sk-toggleable__control:checked~label.sk-toggleable__label {background-color: #d4ebff;}#sk-container-id-2 div.sk-label input.sk-toggleable__control:checked~label.sk-toggleable__label {background-color: #d4ebff;}#sk-container-id-2 input.sk-hidden--visually {border: 0;clip: rect(1px 1px 1px 1px);clip: rect(1px, 1px, 1px, 1px);height: 1px;margin: -1px;overflow: hidden;padding: 0;position: absolute;width: 1px;}#sk-container-id-2 div.sk-estimator {font-family: monospace;background-color: #f0f8ff;border: 1px dotted black;border-radius: 0.25em;box-sizing: border-box;margin-bottom: 0.5em;}#sk-container-id-2 div.sk-estimator:hover {background-color: #d4ebff;}#sk-container-id-2 div.sk-parallel-item::after {content: \"\";width: 100%;border-bottom: 1px solid gray;flex-grow: 1;}#sk-container-id-2 div.sk-label:hover label.sk-toggleable__label {background-color: #d4ebff;}#sk-container-id-2 div.sk-serial::before {content: \"\";position: absolute;border-left: 1px solid gray;box-sizing: border-box;top: 0;bottom: 0;left: 50%;z-index: 0;}#sk-container-id-2 div.sk-serial {display: flex;flex-direction: column;align-items: center;background-color: white;padding-right: 0.2em;padding-left: 0.2em;position: relative;}#sk-container-id-2 div.sk-item {position: relative;z-index: 1;}#sk-container-id-2 div.sk-parallel {display: flex;align-items: stretch;justify-content: center;background-color: white;position: relative;}#sk-container-id-2 div.sk-item::before, #sk-container-id-2 div.sk-parallel-item::before {content: \"\";position: absolute;border-left: 1px solid gray;box-sizing: border-box;top: 0;bottom: 0;left: 50%;z-index: -1;}#sk-container-id-2 div.sk-parallel-item {display: flex;flex-direction: column;z-index: 1;position: relative;background-color: white;}#sk-container-id-2 div.sk-parallel-item:first-child::after {align-self: flex-end;width: 50%;}#sk-container-id-2 div.sk-parallel-item:last-child::after {align-self: flex-start;width: 50%;}#sk-container-id-2 div.sk-parallel-item:only-child::after {width: 0;}#sk-container-id-2 div.sk-dashed-wrapped {border: 1px dashed gray;margin: 0 0.4em 0.5em 0.4em;box-sizing: border-box;padding-bottom: 0.4em;background-color: white;}#sk-container-id-2 div.sk-label label {font-family: monospace;font-weight: bold;display: inline-block;line-height: 1.2em;}#sk-container-id-2 div.sk-label-container {text-align: center;}#sk-container-id-2 div.sk-container {/* jupyter's `normalize.less` sets `[hidden] { display: none; }` but bootstrap.min.css set `[hidden] { display: none !important; }` so we also need the `!important` here to be able to override the default hidden behavior on the sphinx rendered scikit-learn.org. See: https://github.com/scikit-learn/scikit-learn/issues/21755 */display: inline-block !important;position: relative;}#sk-container-id-2 div.sk-text-repr-fallback {display: none;}</style><div id=\"sk-container-id-2\" class=\"sk-top-container\"><div class=\"sk-text-repr-fallback\"><pre>MLPClassifier(hidden_layer_sizes=(12, 12, 12, 12), max_iter=500)</pre><b>In a Jupyter environment, please rerun this cell to show the HTML representation or trust the notebook. <br />On GitHub, the HTML representation is unable to render, please try loading this page with nbviewer.org.</b></div><div class=\"sk-container\" hidden><div class=\"sk-item\"><div class=\"sk-estimator sk-toggleable\"><input class=\"sk-toggleable__control sk-hidden--visually\" id=\"sk-estimator-id-2\" type=\"checkbox\" checked><label for=\"sk-estimator-id-2\" class=\"sk-toggleable__label sk-toggleable__label-arrow\">MLPClassifier</label><div class=\"sk-toggleable__content\"><pre>MLPClassifier(hidden_layer_sizes=(12, 12, 12, 12), max_iter=500)</pre></div></div></div></div></div>"
      ],
      "text/plain": [
       "MLPClassifier(hidden_layer_sizes=(12, 12, 12, 12), max_iter=500)"
      ]
     },
     "execution_count": 68,
     "metadata": {},
     "output_type": "execute_result"
    }
   ],
   "source": [
    "neural=MLPClassifier(hidden_layer_sizes=(12,12,12,12), activation='relu', solver='adam', max_iter=500)\n",
    "neural.fit(trainX, trainY)"
   ]
  },
  {
   "cell_type": "code",
   "execution_count": 69,
   "metadata": {},
   "outputs": [],
   "source": [
    "ypred=neural.predict(testX)"
   ]
  },
  {
   "cell_type": "code",
   "execution_count": 70,
   "metadata": {},
   "outputs": [],
   "source": [
    "# generating accuracy score\n",
    "acc=accuracy_score(testY,ypred)*100"
   ]
  },
  {
   "cell_type": "code",
   "execution_count": 71,
   "metadata": {},
   "outputs": [],
   "source": [
    "# generating f1 score\n",
    "f1=f1_score(testY,ypred, average='micro')*100"
   ]
  },
  {
   "cell_type": "code",
   "execution_count": 72,
   "metadata": {},
   "outputs": [],
   "source": [
    "result.append([\"Deep Multi Layer Perceptron\",acc,f1])"
   ]
  },
  {
   "cell_type": "code",
   "execution_count": 73,
   "metadata": {},
   "outputs": [
    {
     "data": {
      "text/plain": [
       "[['SVM', 8.060712342020922, 8.060712342020922],\n",
       " ['Random Forest Trees', 98.96595513091854, 98.96595513091854],\n",
       " ['XGBoost', 98.76035556630586, 98.76035556630585],\n",
       " ['AdaBoost', 70.59321521436777, 70.59321521436777],\n",
       " ['LightGBM', 98.57289713974723, 98.57289713974723],\n",
       " ['Decision Trees', 98.43381508133277, 98.43381508133277],\n",
       " ['Extra Trees Classifier', 98.89943762472032, 98.89943762472032],\n",
       " ['Deep Multi Layer Perceptron', 93.27568482796154, 93.27568482796154]]"
      ]
     },
     "execution_count": 73,
     "metadata": {},
     "output_type": "execute_result"
    }
   ],
   "source": [
    "result"
   ]
  },
  {
   "cell_type": "markdown",
   "metadata": {},
   "source": [
    "#  Results"
   ]
  },
  {
   "cell_type": "code",
   "execution_count": 74,
   "metadata": {},
   "outputs": [
    {
     "data": {
      "text/html": [
       "<div>\n",
       "<style scoped>\n",
       "    .dataframe tbody tr th:only-of-type {\n",
       "        vertical-align: middle;\n",
       "    }\n",
       "\n",
       "    .dataframe tbody tr th {\n",
       "        vertical-align: top;\n",
       "    }\n",
       "\n",
       "    .dataframe thead th {\n",
       "        text-align: right;\n",
       "    }\n",
       "</style>\n",
       "<table border=\"1\" class=\"dataframe\">\n",
       "  <thead>\n",
       "    <tr style=\"text-align: right;\">\n",
       "      <th></th>\n",
       "      <th>Model</th>\n",
       "      <th>Accuracy</th>\n",
       "      <th>F1-Score</th>\n",
       "    </tr>\n",
       "  </thead>\n",
       "  <tbody>\n",
       "    <tr>\n",
       "      <th>0</th>\n",
       "      <td>SVM</td>\n",
       "      <td>8.060712</td>\n",
       "      <td>8.060712</td>\n",
       "    </tr>\n",
       "    <tr>\n",
       "      <th>1</th>\n",
       "      <td>Random Forest Trees</td>\n",
       "      <td>98.965955</td>\n",
       "      <td>98.965955</td>\n",
       "    </tr>\n",
       "    <tr>\n",
       "      <th>2</th>\n",
       "      <td>XGBoost</td>\n",
       "      <td>98.760356</td>\n",
       "      <td>98.760356</td>\n",
       "    </tr>\n",
       "    <tr>\n",
       "      <th>3</th>\n",
       "      <td>AdaBoost</td>\n",
       "      <td>70.593215</td>\n",
       "      <td>70.593215</td>\n",
       "    </tr>\n",
       "    <tr>\n",
       "      <th>4</th>\n",
       "      <td>LightGBM</td>\n",
       "      <td>98.572897</td>\n",
       "      <td>98.572897</td>\n",
       "    </tr>\n",
       "    <tr>\n",
       "      <th>5</th>\n",
       "      <td>Decision Trees</td>\n",
       "      <td>98.433815</td>\n",
       "      <td>98.433815</td>\n",
       "    </tr>\n",
       "    <tr>\n",
       "      <th>6</th>\n",
       "      <td>Extra Trees Classifier</td>\n",
       "      <td>98.899438</td>\n",
       "      <td>98.899438</td>\n",
       "    </tr>\n",
       "    <tr>\n",
       "      <th>7</th>\n",
       "      <td>Deep Multi Layer Perceptron</td>\n",
       "      <td>93.275685</td>\n",
       "      <td>93.275685</td>\n",
       "    </tr>\n",
       "  </tbody>\n",
       "</table>\n",
       "</div>"
      ],
      "text/plain": [
       "                         Model   Accuracy   F1-Score\n",
       "0                          SVM   8.060712   8.060712\n",
       "1          Random Forest Trees  98.965955  98.965955\n",
       "2                      XGBoost  98.760356  98.760356\n",
       "3                     AdaBoost  70.593215  70.593215\n",
       "4                     LightGBM  98.572897  98.572897\n",
       "5               Decision Trees  98.433815  98.433815\n",
       "6       Extra Trees Classifier  98.899438  98.899438\n",
       "7  Deep Multi Layer Perceptron  93.275685  93.275685"
      ]
     },
     "execution_count": 74,
     "metadata": {},
     "output_type": "execute_result"
    }
   ],
   "source": [
    "result = pd.DataFrame(result)\n",
    "result.columns= ['Model', 'Accuracy','F1-Score']\n",
    "result"
   ]
  },
  {
   "cell_type": "code",
   "execution_count": 75,
   "metadata": {},
   "outputs": [
    {
     "data": {
      "text/plain": [
       "([0, 1, 2, 3, 4, 5, 6, 7],\n",
       " [Text(0, 0, 'SVM'),\n",
       "  Text(1, 0, 'Random Forest Trees'),\n",
       "  Text(2, 0, 'XGBoost'),\n",
       "  Text(3, 0, 'AdaBoost'),\n",
       "  Text(4, 0, 'LightGBM'),\n",
       "  Text(5, 0, 'Decision Trees'),\n",
       "  Text(6, 0, 'Extra Trees Classifier'),\n",
       "  Text(7, 0, 'Deep Multi Layer Perceptron')])"
      ]
     },
     "execution_count": 75,
     "metadata": {},
     "output_type": "execute_result"
    },
    {
     "data": {
      "image/png": "[encoded data removed]",
      "text/plain": [
       "<Figure size 640x480 with 1 Axes>"
      ]
     },
     "metadata": {},
     "output_type": "display_data"
    }
   ],
   "source": [
    "# creating the bar plot\n",
    "plt.bar(result['Model'], result['Accuracy'], color ='maroon', width = 0.4)\n",
    "plt.plot(result['Model'], result['Accuracy'], color ='maroon', marker='o')\n",
    "plt.xticks(rotation=35)"
   ]
  },
  {
   "cell_type": "code",
   "execution_count": 76,
   "metadata": {},
   "outputs": [
    {
     "data": {
      "text/plain": [
       "([0, 1, 2, 3, 4, 5, 6, 7],\n",
       " [Text(0, 0, 'SVM'),\n",
       "  Text(1, 0, 'Random Forest Trees'),\n",
       "  Text(2, 0, 'XGBoost'),\n",
       "  Text(3, 0, 'AdaBoost'),\n",
       "  Text(4, 0, 'LightGBM'),\n",
       "  Text(5, 0, 'Decision Trees'),\n",
       "  Text(6, 0, 'Extra Trees Classifier'),\n",
       "  Text(7, 0, 'Deep Multi Layer Perceptron')])"
      ]
     },
     "execution_count": 76,
     "metadata": {},
     "output_type": "execute_result"
    },
    {
     "data": {
      "image/png": "[encoded data removed]",
      "text/plain": [
       "<Figure size 640x480 with 1 Axes>"
      ]
     },
     "metadata": {},
     "output_type": "display_data"
    }
   ],
   "source": [
    "# creating the bar plot\n",
    "plt.bar(result['Model'], result['F1-Score'], color ='maroon', width = 0.4)\n",
    "plt.plot(result['Model'], result['F1-Score'], color ='maroon', marker='o')\n",
    "plt.xticks(rotation=35)"
   ]
  },
  {
   "cell_type": "code",
   "execution_count": 77,
   "metadata": {},
   "outputs": [
    {
     "data": {
      "image/png": "[encoded data removed]",
      "text/plain": [
       "<Figure size 1200x800 with 1 Axes>"
      ]
     },
     "metadata": {},
     "output_type": "display_data"
    }
   ],
   "source": [
    "fig = plt.subplots(figsize =(12, 8))\n",
    "br1 = np.arange(len(result))\n",
    "br2 = [x + 0.25 for x in br1]\n",
    "\n",
    "plt.bar(br1, result['Accuracy'], color ='b', width = 0.25, edgecolor ='grey', label ='Accuracy')\n",
    "plt.bar(br2, result['F1-Score'], color ='r', width = 0.25, edgecolor ='grey', label ='F1-Score')\n",
    " \n",
    "# Adding Xticks\n",
    "plt.xlabel('Models', fontweight ='bold', fontsize = 15)\n",
    "plt.ylabel('Scores', fontweight ='bold', fontsize = 15)\n",
    "plt.xticks([r + 0.25 for r in range(len(result))], result['Model'], rotation =35)\n",
    " \n",
    "plt.legend()\n",
    "plt.show()"
   ]
  },
  {
   "cell_type": "code",
   "execution_count": 78,
   "metadata": {},
   "outputs": [
    {
     "data": {
      "text/html": [
       "<div>\n",
       "<style scoped>\n",
       "    .dataframe tbody tr th:only-of-type {\n",
       "        vertical-align: middle;\n",
       "    }\n",
       "\n",
       "    .dataframe tbody tr th {\n",
       "        vertical-align: top;\n",
       "    }\n",
       "\n",
       "    .dataframe thead th {\n",
       "        text-align: right;\n",
       "    }\n",
       "</style>\n",
       "<table border=\"1\" class=\"dataframe\">\n",
       "  <thead>\n",
       "    <tr style=\"text-align: right;\">\n",
       "      <th></th>\n",
       "      <th>Model</th>\n",
       "      <th>Accuracy</th>\n",
       "      <th>F1-Score</th>\n",
       "    </tr>\n",
       "  </thead>\n",
       "  <tbody>\n",
       "    <tr>\n",
       "      <th>1</th>\n",
       "      <td>Random Forest Trees</td>\n",
       "      <td>98.965955</td>\n",
       "      <td>98.965955</td>\n",
       "    </tr>\n",
       "    <tr>\n",
       "      <th>6</th>\n",
       "      <td>Extra Trees Classifier</td>\n",
       "      <td>98.899438</td>\n",
       "      <td>98.899438</td>\n",
       "    </tr>\n",
       "    <tr>\n",
       "      <th>2</th>\n",
       "      <td>XGBoost</td>\n",
       "      <td>98.760356</td>\n",
       "      <td>98.760356</td>\n",
       "    </tr>\n",
       "    <tr>\n",
       "      <th>4</th>\n",
       "      <td>LightGBM</td>\n",
       "      <td>98.572897</td>\n",
       "      <td>98.572897</td>\n",
       "    </tr>\n",
       "    <tr>\n",
       "      <th>5</th>\n",
       "      <td>Decision Trees</td>\n",
       "      <td>98.433815</td>\n",
       "      <td>98.433815</td>\n",
       "    </tr>\n",
       "    <tr>\n",
       "      <th>7</th>\n",
       "      <td>Deep Multi Layer Perceptron</td>\n",
       "      <td>93.275685</td>\n",
       "      <td>93.275685</td>\n",
       "    </tr>\n",
       "    <tr>\n",
       "      <th>3</th>\n",
       "      <td>AdaBoost</td>\n",
       "      <td>70.593215</td>\n",
       "      <td>70.593215</td>\n",
       "    </tr>\n",
       "    <tr>\n",
       "      <th>0</th>\n",
       "      <td>SVM</td>\n",
       "      <td>8.060712</td>\n",
       "      <td>8.060712</td>\n",
       "    </tr>\n",
       "  </tbody>\n",
       "</table>\n",
       "</div>"
      ],
      "text/plain": [
       "                         Model   Accuracy   F1-Score\n",
       "1          Random Forest Trees  98.965955  98.965955\n",
       "6       Extra Trees Classifier  98.899438  98.899438\n",
       "2                      XGBoost  98.760356  98.760356\n",
       "4                     LightGBM  98.572897  98.572897\n",
       "5               Decision Trees  98.433815  98.433815\n",
       "7  Deep Multi Layer Perceptron  93.275685  93.275685\n",
       "3                     AdaBoost  70.593215  70.593215\n",
       "0                          SVM   8.060712   8.060712"
      ]
     },
     "execution_count": 78,
     "metadata": {},
     "output_type": "execute_result"
    }
   ],
   "source": [
    "result.sort_values(by=['Accuracy'], ascending=False)"
   ]
  },
  {
   "cell_type": "code",
   "execution_count": 79,
   "metadata": {},
   "outputs": [],
   "source": [
    "pickle.dump(rft, open('bestModel.pkl','wb'))"
   ]
  },
  {
   "cell_type": "code",
   "execution_count": null,
   "metadata": {},
   "outputs": [],
   "source": []
  }
 ],
 "metadata": {
  "colab": {
   "provenance": []
  },
  "kernelspec": {
   "display_name": "Python 3 (ipykernel)",
   "language": "python",
   "name": "python3"
  },
  "language_info": {
   "codemirror_mode": {
    "name": "ipython",
    "version": 3
   },
   "file_extension": ".py",
   "mimetype": "text/x-python",
   "name": "python",
   "nbconvert_exporter": "python",
   "pygments_lexer": "ipython3",
   "version": "3.11.7"
  }
 },
 "nbformat": 4,
 "nbformat_minor": 4
}
